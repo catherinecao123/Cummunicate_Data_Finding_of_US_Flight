{
 "cells": [
  {
   "cell_type": "markdown",
   "metadata": {},
   "source": [
    "# US Flight Exploratory Data Analysis(EDA)\n",
    "## by Chaojun Cao"
   ]
  },
  {
   "cell_type": "markdown",
   "metadata": {},
   "source": [
    "<a id='intro'></a>\n",
    "### Preliminary Wrangling\n",
    "This dataset reports flights in the United States,including carriers, arrival and departure delays, and reasons for delays,\n",
    "from 2007 to 2008, around 7,751,000 flight records for 2007, and 8,450,121 for 2008. The full data are available from <a>http://stat-computing.org/dataexpo/2009/the-data.html</a>with more detailed variable descriptions."
   ]
  },
  {
   "cell_type": "markdown",
   "metadata": {},
   "source": [
    "### Exploratory"
   ]
  },
  {
   "cell_type": "code",
   "execution_count": 1,
   "metadata": {},
   "outputs": [],
   "source": [
    "# import all packages and set plots to be embedded inline\n",
    "import numpy as np\n",
    "import pandas as pd\n",
    "import matplotlib.pyplot as plt\n",
    "import seaborn as sb\n",
    "\n",
    "%matplotlib inline"
   ]
  },
  {
   "cell_type": "code",
   "execution_count": 2,
   "metadata": {},
   "outputs": [
    {
     "data": {
      "text/html": [
       "<div>\n",
       "<style scoped>\n",
       "    .dataframe tbody tr th:only-of-type {\n",
       "        vertical-align: middle;\n",
       "    }\n",
       "\n",
       "    .dataframe tbody tr th {\n",
       "        vertical-align: top;\n",
       "    }\n",
       "\n",
       "    .dataframe thead th {\n",
       "        text-align: right;\n",
       "    }\n",
       "</style>\n",
       "<table border=\"1\" class=\"dataframe\">\n",
       "  <thead>\n",
       "    <tr style=\"text-align: right;\">\n",
       "      <th></th>\n",
       "      <th>Year</th>\n",
       "      <th>Month</th>\n",
       "      <th>DayofMonth</th>\n",
       "      <th>DayOfWeek</th>\n",
       "      <th>DepTime</th>\n",
       "      <th>CRSDepTime</th>\n",
       "      <th>ArrTime</th>\n",
       "      <th>CRSArrTime</th>\n",
       "      <th>UniqueCarrier</th>\n",
       "      <th>FlightNum</th>\n",
       "      <th>...</th>\n",
       "      <th>TaxiIn</th>\n",
       "      <th>TaxiOut</th>\n",
       "      <th>Cancelled</th>\n",
       "      <th>CancellationCode</th>\n",
       "      <th>Diverted</th>\n",
       "      <th>CarrierDelay</th>\n",
       "      <th>WeatherDelay</th>\n",
       "      <th>NASDelay</th>\n",
       "      <th>SecurityDelay</th>\n",
       "      <th>LateAircraftDelay</th>\n",
       "    </tr>\n",
       "  </thead>\n",
       "  <tbody>\n",
       "    <tr>\n",
       "      <td>0</td>\n",
       "      <td>2008</td>\n",
       "      <td>8</td>\n",
       "      <td>27</td>\n",
       "      <td>3</td>\n",
       "      <td>1121.0</td>\n",
       "      <td>1100</td>\n",
       "      <td>1859.0</td>\n",
       "      <td>1856</td>\n",
       "      <td>US</td>\n",
       "      <td>1548</td>\n",
       "      <td>...</td>\n",
       "      <td>6.0</td>\n",
       "      <td>13.0</td>\n",
       "      <td>0</td>\n",
       "      <td>NaN</td>\n",
       "      <td>0</td>\n",
       "      <td>NaN</td>\n",
       "      <td>NaN</td>\n",
       "      <td>NaN</td>\n",
       "      <td>NaN</td>\n",
       "      <td>NaN</td>\n",
       "    </tr>\n",
       "    <tr>\n",
       "      <td>1</td>\n",
       "      <td>2008</td>\n",
       "      <td>1</td>\n",
       "      <td>31</td>\n",
       "      <td>4</td>\n",
       "      <td>1104.0</td>\n",
       "      <td>1110</td>\n",
       "      <td>1219.0</td>\n",
       "      <td>1235</td>\n",
       "      <td>WN</td>\n",
       "      <td>351</td>\n",
       "      <td>...</td>\n",
       "      <td>3.0</td>\n",
       "      <td>8.0</td>\n",
       "      <td>0</td>\n",
       "      <td>NaN</td>\n",
       "      <td>0</td>\n",
       "      <td>NaN</td>\n",
       "      <td>NaN</td>\n",
       "      <td>NaN</td>\n",
       "      <td>NaN</td>\n",
       "      <td>NaN</td>\n",
       "    </tr>\n",
       "    <tr>\n",
       "      <td>2</td>\n",
       "      <td>2008</td>\n",
       "      <td>3</td>\n",
       "      <td>27</td>\n",
       "      <td>4</td>\n",
       "      <td>557.0</td>\n",
       "      <td>600</td>\n",
       "      <td>800.0</td>\n",
       "      <td>810</td>\n",
       "      <td>NW</td>\n",
       "      <td>1722</td>\n",
       "      <td>...</td>\n",
       "      <td>7.0</td>\n",
       "      <td>10.0</td>\n",
       "      <td>0</td>\n",
       "      <td>NaN</td>\n",
       "      <td>0</td>\n",
       "      <td>NaN</td>\n",
       "      <td>NaN</td>\n",
       "      <td>NaN</td>\n",
       "      <td>NaN</td>\n",
       "      <td>NaN</td>\n",
       "    </tr>\n",
       "    <tr>\n",
       "      <td>3</td>\n",
       "      <td>2008</td>\n",
       "      <td>10</td>\n",
       "      <td>11</td>\n",
       "      <td>6</td>\n",
       "      <td>928.0</td>\n",
       "      <td>930</td>\n",
       "      <td>1113.0</td>\n",
       "      <td>1125</td>\n",
       "      <td>DL</td>\n",
       "      <td>660</td>\n",
       "      <td>...</td>\n",
       "      <td>8.0</td>\n",
       "      <td>9.0</td>\n",
       "      <td>0</td>\n",
       "      <td>NaN</td>\n",
       "      <td>0</td>\n",
       "      <td>NaN</td>\n",
       "      <td>NaN</td>\n",
       "      <td>NaN</td>\n",
       "      <td>NaN</td>\n",
       "      <td>NaN</td>\n",
       "    </tr>\n",
       "    <tr>\n",
       "      <td>4</td>\n",
       "      <td>2008</td>\n",
       "      <td>1</td>\n",
       "      <td>27</td>\n",
       "      <td>7</td>\n",
       "      <td>908.0</td>\n",
       "      <td>912</td>\n",
       "      <td>1019.0</td>\n",
       "      <td>1030</td>\n",
       "      <td>9E</td>\n",
       "      <td>2910</td>\n",
       "      <td>...</td>\n",
       "      <td>4.0</td>\n",
       "      <td>36.0</td>\n",
       "      <td>0</td>\n",
       "      <td>NaN</td>\n",
       "      <td>0</td>\n",
       "      <td>NaN</td>\n",
       "      <td>NaN</td>\n",
       "      <td>NaN</td>\n",
       "      <td>NaN</td>\n",
       "      <td>NaN</td>\n",
       "    </tr>\n",
       "  </tbody>\n",
       "</table>\n",
       "<p>5 rows × 29 columns</p>\n",
       "</div>"
      ],
      "text/plain": [
       "   Year  Month  DayofMonth  DayOfWeek  DepTime  CRSDepTime  ArrTime  \\\n",
       "0  2008      8          27          3   1121.0        1100   1859.0   \n",
       "1  2008      1          31          4   1104.0        1110   1219.0   \n",
       "2  2008      3          27          4    557.0         600    800.0   \n",
       "3  2008     10          11          6    928.0         930   1113.0   \n",
       "4  2008      1          27          7    908.0         912   1019.0   \n",
       "\n",
       "   CRSArrTime UniqueCarrier  FlightNum  ... TaxiIn  TaxiOut  Cancelled  \\\n",
       "0        1856            US       1548  ...    6.0     13.0          0   \n",
       "1        1235            WN        351  ...    3.0      8.0          0   \n",
       "2         810            NW       1722  ...    7.0     10.0          0   \n",
       "3        1125            DL        660  ...    8.0      9.0          0   \n",
       "4        1030            9E       2910  ...    4.0     36.0          0   \n",
       "\n",
       "   CancellationCode  Diverted  CarrierDelay WeatherDelay NASDelay  \\\n",
       "0               NaN         0           NaN          NaN      NaN   \n",
       "1               NaN         0           NaN          NaN      NaN   \n",
       "2               NaN         0           NaN          NaN      NaN   \n",
       "3               NaN         0           NaN          NaN      NaN   \n",
       "4               NaN         0           NaN          NaN      NaN   \n",
       "\n",
       "   SecurityDelay  LateAircraftDelay  \n",
       "0            NaN                NaN  \n",
       "1            NaN                NaN  \n",
       "2            NaN                NaN  \n",
       "3            NaN                NaN  \n",
       "4            NaN                NaN  \n",
       "\n",
       "[5 rows x 29 columns]"
      ]
     },
     "execution_count": 2,
     "metadata": {},
     "output_type": "execute_result"
    }
   ],
   "source": [
    "#load in the csv data\n",
    "df1_clean=pd.read_csv('2008_sample_10k.csv')\n",
    "df1_clean.head()"
   ]
  },
  {
   "cell_type": "code",
   "execution_count": 3,
   "metadata": {},
   "outputs": [],
   "source": [
    "drop_list=['TailNum', 'AirTime', 'Distance','TaxiIn', 'TaxiOut',  'CancellationCode']\n",
    "df1_clean=df1_clean.drop(drop_list, axis=1)"
   ]
  },
  {
   "cell_type": "code",
   "execution_count": 4,
   "metadata": {},
   "outputs": [
    {
     "data": {
      "text/plain": [
       "Index(['Year', 'Month', 'DayofMonth', 'DayOfWeek', 'DepTime', 'CRSDepTime',\n",
       "       'ArrTime', 'CRSArrTime', 'UniqueCarrier', 'FlightNum',\n",
       "       'ActualElapsedTime', 'CRSElapsedTime', 'ArrDelay', 'DepDelay', 'Origin',\n",
       "       'Dest', 'Cancelled', 'Diverted', 'CarrierDelay', 'WeatherDelay',\n",
       "       'NASDelay', 'SecurityDelay', 'LateAircraftDelay'],\n",
       "      dtype='object')"
      ]
     },
     "execution_count": 4,
     "metadata": {},
     "output_type": "execute_result"
    }
   ],
   "source": [
    "df1_clean.columns"
   ]
  },
  {
   "cell_type": "code",
   "execution_count": 5,
   "metadata": {},
   "outputs": [],
   "source": [
    "column_label=['Year', 'Month', 'Day_of_Month', 'Day_Of_Week', 'Dep_Time', 'S_Dep_Time',\n",
    "       'Arr_Time', 'S_Arr_Time', 'Unique_Carrier', 'Flight_Num',\n",
    "       'Actual_Elapsed_Time','S_Elapsed_Time', 'Arr_Delay',\n",
    "       'Dep_Delay', 'Origin', 'Dest', \n",
    "       'Cancelled',  'Diverted', 'Carrier_Delay',\n",
    "       'Weather_Delay', 'NAS_Delay', 'Security_Delay', 'Late_Aircraft_Delay']"
   ]
  },
  {
   "cell_type": "code",
   "execution_count": 6,
   "metadata": {},
   "outputs": [],
   "source": [
    "df1_clean.columns=column_label\n",
    "df1_clean.rename(columns=lambda x:x.lower(), inplace=True)"
   ]
  },
  {
   "cell_type": "code",
   "execution_count": 7,
   "metadata": {},
   "outputs": [
    {
     "data": {
      "text/html": [
       "<div>\n",
       "<style scoped>\n",
       "    .dataframe tbody tr th:only-of-type {\n",
       "        vertical-align: middle;\n",
       "    }\n",
       "\n",
       "    .dataframe tbody tr th {\n",
       "        vertical-align: top;\n",
       "    }\n",
       "\n",
       "    .dataframe thead th {\n",
       "        text-align: right;\n",
       "    }\n",
       "</style>\n",
       "<table border=\"1\" class=\"dataframe\">\n",
       "  <thead>\n",
       "    <tr style=\"text-align: right;\">\n",
       "      <th></th>\n",
       "      <th>year</th>\n",
       "      <th>month</th>\n",
       "      <th>day_of_month</th>\n",
       "      <th>day_of_week</th>\n",
       "      <th>dep_time</th>\n",
       "      <th>s_dep_time</th>\n",
       "      <th>arr_time</th>\n",
       "      <th>s_arr_time</th>\n",
       "      <th>unique_carrier</th>\n",
       "      <th>flight_num</th>\n",
       "      <th>...</th>\n",
       "      <th>dep_delay</th>\n",
       "      <th>origin</th>\n",
       "      <th>dest</th>\n",
       "      <th>cancelled</th>\n",
       "      <th>diverted</th>\n",
       "      <th>carrier_delay</th>\n",
       "      <th>weather_delay</th>\n",
       "      <th>nas_delay</th>\n",
       "      <th>security_delay</th>\n",
       "      <th>late_aircraft_delay</th>\n",
       "    </tr>\n",
       "  </thead>\n",
       "  <tbody>\n",
       "    <tr>\n",
       "      <td>0</td>\n",
       "      <td>2008</td>\n",
       "      <td>8</td>\n",
       "      <td>27</td>\n",
       "      <td>3</td>\n",
       "      <td>1121.0</td>\n",
       "      <td>1100</td>\n",
       "      <td>1859.0</td>\n",
       "      <td>1856</td>\n",
       "      <td>US</td>\n",
       "      <td>1548</td>\n",
       "      <td>...</td>\n",
       "      <td>21.0</td>\n",
       "      <td>SEA</td>\n",
       "      <td>CLT</td>\n",
       "      <td>0</td>\n",
       "      <td>0</td>\n",
       "      <td>NaN</td>\n",
       "      <td>NaN</td>\n",
       "      <td>NaN</td>\n",
       "      <td>NaN</td>\n",
       "      <td>NaN</td>\n",
       "    </tr>\n",
       "    <tr>\n",
       "      <td>1</td>\n",
       "      <td>2008</td>\n",
       "      <td>1</td>\n",
       "      <td>31</td>\n",
       "      <td>4</td>\n",
       "      <td>1104.0</td>\n",
       "      <td>1110</td>\n",
       "      <td>1219.0</td>\n",
       "      <td>1235</td>\n",
       "      <td>WN</td>\n",
       "      <td>351</td>\n",
       "      <td>...</td>\n",
       "      <td>-6.0</td>\n",
       "      <td>OAK</td>\n",
       "      <td>SAN</td>\n",
       "      <td>0</td>\n",
       "      <td>0</td>\n",
       "      <td>NaN</td>\n",
       "      <td>NaN</td>\n",
       "      <td>NaN</td>\n",
       "      <td>NaN</td>\n",
       "      <td>NaN</td>\n",
       "    </tr>\n",
       "  </tbody>\n",
       "</table>\n",
       "<p>2 rows × 23 columns</p>\n",
       "</div>"
      ],
      "text/plain": [
       "   year  month  day_of_month  day_of_week  dep_time  s_dep_time  arr_time  \\\n",
       "0  2008      8            27            3    1121.0        1100    1859.0   \n",
       "1  2008      1            31            4    1104.0        1110    1219.0   \n",
       "\n",
       "   s_arr_time unique_carrier  flight_num  ...  dep_delay  origin  dest  \\\n",
       "0        1856             US        1548  ...       21.0     SEA   CLT   \n",
       "1        1235             WN         351  ...       -6.0     OAK   SAN   \n",
       "\n",
       "   cancelled diverted carrier_delay  weather_delay  nas_delay  security_delay  \\\n",
       "0          0        0           NaN            NaN        NaN             NaN   \n",
       "1          0        0           NaN            NaN        NaN             NaN   \n",
       "\n",
       "   late_aircraft_delay  \n",
       "0                  NaN  \n",
       "1                  NaN  \n",
       "\n",
       "[2 rows x 23 columns]"
      ]
     },
     "execution_count": 7,
     "metadata": {},
     "output_type": "execute_result"
    }
   ],
   "source": [
    "df1_clean.head(2)"
   ]
  },
  {
   "cell_type": "code",
   "execution_count": 8,
   "metadata": {},
   "outputs": [],
   "source": [
    "time_col=['dep_time', 's_dep_time', 'arr_time', 's_arr_time']"
   ]
  },
  {
   "cell_type": "code",
   "execution_count": 9,
   "metadata": {},
   "outputs": [
    {
     "name": "stdout",
     "output_type": "stream",
     "text": [
      "<class 'pandas.core.frame.DataFrame'>\n",
      "RangeIndex: 10000 entries, 0 to 9999\n",
      "Data columns (total 4 columns):\n",
      "dep_time      10000 non-null object\n",
      "s_dep_time    10000 non-null int64\n",
      "arr_time      10000 non-null object\n",
      "s_arr_time    10000 non-null int64\n",
      "dtypes: int64(2), object(2)\n",
      "memory usage: 312.6+ KB\n"
     ]
    }
   ],
   "source": [
    "time_columns=df1_clean.loc[:,time_col]\n",
    "time_columns.fillna('999999', inplace=True)\n",
    "time_columns.info()"
   ]
  },
  {
   "cell_type": "code",
   "execution_count": 10,
   "metadata": {},
   "outputs": [],
   "source": [
    "#for the time columns, change the column format to hh:mm\n",
    "time_columns=time_columns.astype(str)\n",
    "time_columns['dep_time']=time_columns['dep_time'].apply(lambda x: x.zfill(6))\n",
    "time_columns['arr_time']=time_columns['arr_time'].apply(lambda x: x.zfill(6))\n",
    "time_columns['s_dep_time']=time_columns['s_dep_time'].apply(lambda x: x.zfill(4))\n",
    "time_columns['s_arr_time']=time_columns['s_arr_time'].apply(lambda x: x.zfill(4))"
   ]
  },
  {
   "cell_type": "code",
   "execution_count": 11,
   "metadata": {},
   "outputs": [],
   "source": [
    "list1=[]\n",
    "list2=[]\n",
    "list3=[]\n",
    "list4=[]\n",
    "for i in range(0, time_columns.shape[0]):\n",
    "    list1.append(time_columns.dep_time[i][0:2]+':'+time_columns.dep_time[i][2:4])\n",
    "    list2.append(time_columns.arr_time[i][0:2]+':'+time_columns.arr_time[i][2:4])\n",
    "    list3.append(time_columns.s_dep_time[i][0:2]+':'+time_columns.s_dep_time[i][2:4])\n",
    "    list4.append(time_columns.s_arr_time[i][0:2]+':'+time_columns.s_arr_time[i][2:4])"
   ]
  },
  {
   "cell_type": "code",
   "execution_count": 12,
   "metadata": {},
   "outputs": [
    {
     "data": {
      "text/plain": [
       "(10000, 10000, 10000, 10000)"
      ]
     },
     "execution_count": 12,
     "metadata": {},
     "output_type": "execute_result"
    }
   ],
   "source": [
    "len(list1), len(list2), len(list3), len(list4)"
   ]
  },
  {
   "cell_type": "code",
   "execution_count": 13,
   "metadata": {},
   "outputs": [],
   "source": [
    "df1_clean['depart_time']=list1\n",
    "df1_clean['arrive_time']=list2\n",
    "df1_clean['schedule_dep_time']=list3\n",
    "df1_clean['schedule_arr_time']=list4"
   ]
  },
  {
   "cell_type": "code",
   "execution_count": 14,
   "metadata": {},
   "outputs": [],
   "source": [
    "df1_clean.drop(['dep_time', 's_dep_time', 'arr_time', 's_arr_time'], axis=1, inplace=True)\n",
    "\n",
    "df1_clean.loc[df1_clean.depart_time=='99:99', 'depart_time']=np.nan\n",
    "df1_clean.loc[df1_clean.arrive_time=='99:99', 'arrive_time']=np.nan"
   ]
  },
  {
   "cell_type": "code",
   "execution_count": 15,
   "metadata": {},
   "outputs": [
    {
     "name": "stderr",
     "output_type": "stream",
     "text": [
      "/home/jupyterlab/conda/envs/python/lib/python3.6/site-packages/pandas/core/frame.py:4263: SettingWithCopyWarning: \n",
      "A value is trying to be set on a copy of a slice from a DataFrame\n",
      "\n",
      "See the caveats in the documentation: http://pandas.pydata.org/pandas-docs/stable/user_guide/indexing.html#returning-a-view-versus-a-copy\n",
      "  method=method,\n",
      "/home/jupyterlab/conda/envs/python/lib/python3.6/site-packages/ipykernel_launcher.py:4: SettingWithCopyWarning: \n",
      "A value is trying to be set on a copy of a slice from a DataFrame.\n",
      "Try using .loc[row_indexer,col_indexer] = value instead\n",
      "\n",
      "See the caveats in the documentation: http://pandas.pydata.org/pandas-docs/stable/user_guide/indexing.html#returning-a-view-versus-a-copy\n",
      "  after removing the cwd from sys.path.\n"
     ]
    },
    {
     "data": {
      "text/html": [
       "<div>\n",
       "<style scoped>\n",
       "    .dataframe tbody tr th:only-of-type {\n",
       "        vertical-align: middle;\n",
       "    }\n",
       "\n",
       "    .dataframe tbody tr th {\n",
       "        vertical-align: top;\n",
       "    }\n",
       "\n",
       "    .dataframe thead th {\n",
       "        text-align: right;\n",
       "    }\n",
       "</style>\n",
       "<table border=\"1\" class=\"dataframe\">\n",
       "  <thead>\n",
       "    <tr style=\"text-align: right;\">\n",
       "      <th></th>\n",
       "      <th>index</th>\n",
       "      <th>carrier_delay</th>\n",
       "      <th>weather_delay</th>\n",
       "      <th>nas_delay</th>\n",
       "      <th>security_delay</th>\n",
       "      <th>late_aircraft_delay</th>\n",
       "      <th>total</th>\n",
       "    </tr>\n",
       "  </thead>\n",
       "  <tbody>\n",
       "    <tr>\n",
       "      <td>0</td>\n",
       "      <td>0</td>\n",
       "      <td>NaN</td>\n",
       "      <td>NaN</td>\n",
       "      <td>NaN</td>\n",
       "      <td>NaN</td>\n",
       "      <td>NaN</td>\n",
       "      <td>0.0</td>\n",
       "    </tr>\n",
       "    <tr>\n",
       "      <td>1</td>\n",
       "      <td>1</td>\n",
       "      <td>NaN</td>\n",
       "      <td>NaN</td>\n",
       "      <td>NaN</td>\n",
       "      <td>NaN</td>\n",
       "      <td>NaN</td>\n",
       "      <td>0.0</td>\n",
       "    </tr>\n",
       "    <tr>\n",
       "      <td>2</td>\n",
       "      <td>2</td>\n",
       "      <td>NaN</td>\n",
       "      <td>NaN</td>\n",
       "      <td>NaN</td>\n",
       "      <td>NaN</td>\n",
       "      <td>NaN</td>\n",
       "      <td>0.0</td>\n",
       "    </tr>\n",
       "    <tr>\n",
       "      <td>3</td>\n",
       "      <td>3</td>\n",
       "      <td>NaN</td>\n",
       "      <td>NaN</td>\n",
       "      <td>NaN</td>\n",
       "      <td>NaN</td>\n",
       "      <td>NaN</td>\n",
       "      <td>0.0</td>\n",
       "    </tr>\n",
       "    <tr>\n",
       "      <td>4</td>\n",
       "      <td>4</td>\n",
       "      <td>NaN</td>\n",
       "      <td>NaN</td>\n",
       "      <td>NaN</td>\n",
       "      <td>NaN</td>\n",
       "      <td>NaN</td>\n",
       "      <td>0.0</td>\n",
       "    </tr>\n",
       "  </tbody>\n",
       "</table>\n",
       "</div>"
      ],
      "text/plain": [
       "   index  carrier_delay  weather_delay  nas_delay  security_delay  \\\n",
       "0      0            NaN            NaN        NaN             NaN   \n",
       "1      1            NaN            NaN        NaN             NaN   \n",
       "2      2            NaN            NaN        NaN             NaN   \n",
       "3      3            NaN            NaN        NaN             NaN   \n",
       "4      4            NaN            NaN        NaN             NaN   \n",
       "\n",
       "   late_aircraft_delay  total  \n",
       "0                  NaN    0.0  \n",
       "1                  NaN    0.0  \n",
       "2                  NaN    0.0  \n",
       "3                  NaN    0.0  \n",
       "4                  NaN    0.0  "
      ]
     },
     "execution_count": 15,
     "metadata": {},
     "output_type": "execute_result"
    }
   ],
   "source": [
    "# melt the delay reseasons to one column, it will gain some number of rows for some flights have several delay reasons.\n",
    "df1_melt=df1_clean[['carrier_delay', 'weather_delay', 'nas_delay', 'security_delay', 'late_aircraft_delay']]\n",
    "df1_melt.replace(0.0, np.nan, inplace=True)\n",
    "df1_melt['total']=df1_melt.sum(axis=1)\n",
    "df1_melt=df1_melt.reset_index()\n",
    "df1_melt.head()"
   ]
  },
  {
   "cell_type": "code",
   "execution_count": 16,
   "metadata": {},
   "outputs": [
    {
     "data": {
      "text/html": [
       "<div>\n",
       "<style scoped>\n",
       "    .dataframe tbody tr th:only-of-type {\n",
       "        vertical-align: middle;\n",
       "    }\n",
       "\n",
       "    .dataframe tbody tr th {\n",
       "        vertical-align: top;\n",
       "    }\n",
       "\n",
       "    .dataframe thead th {\n",
       "        text-align: right;\n",
       "    }\n",
       "</style>\n",
       "<table border=\"1\" class=\"dataframe\">\n",
       "  <thead>\n",
       "    <tr style=\"text-align: right;\">\n",
       "      <th></th>\n",
       "      <th>index</th>\n",
       "      <th>carrier_delay</th>\n",
       "      <th>weather_delay</th>\n",
       "      <th>nas_delay</th>\n",
       "      <th>security_delay</th>\n",
       "      <th>late_aircraft_delay</th>\n",
       "      <th>total</th>\n",
       "    </tr>\n",
       "  </thead>\n",
       "  <tbody>\n",
       "    <tr>\n",
       "      <td>9995</td>\n",
       "      <td>9995</td>\n",
       "      <td>10.0</td>\n",
       "      <td>NaN</td>\n",
       "      <td>10.0</td>\n",
       "      <td>NaN</td>\n",
       "      <td>5.0</td>\n",
       "      <td>25.0</td>\n",
       "    </tr>\n",
       "    <tr>\n",
       "      <td>9996</td>\n",
       "      <td>9996</td>\n",
       "      <td>NaN</td>\n",
       "      <td>NaN</td>\n",
       "      <td>NaN</td>\n",
       "      <td>NaN</td>\n",
       "      <td>NaN</td>\n",
       "      <td>0.0</td>\n",
       "    </tr>\n",
       "    <tr>\n",
       "      <td>9997</td>\n",
       "      <td>9997</td>\n",
       "      <td>NaN</td>\n",
       "      <td>NaN</td>\n",
       "      <td>NaN</td>\n",
       "      <td>NaN</td>\n",
       "      <td>NaN</td>\n",
       "      <td>0.0</td>\n",
       "    </tr>\n",
       "    <tr>\n",
       "      <td>9998</td>\n",
       "      <td>9998</td>\n",
       "      <td>NaN</td>\n",
       "      <td>NaN</td>\n",
       "      <td>NaN</td>\n",
       "      <td>NaN</td>\n",
       "      <td>NaN</td>\n",
       "      <td>0.0</td>\n",
       "    </tr>\n",
       "    <tr>\n",
       "      <td>9999</td>\n",
       "      <td>9999</td>\n",
       "      <td>NaN</td>\n",
       "      <td>NaN</td>\n",
       "      <td>NaN</td>\n",
       "      <td>NaN</td>\n",
       "      <td>NaN</td>\n",
       "      <td>0.0</td>\n",
       "    </tr>\n",
       "  </tbody>\n",
       "</table>\n",
       "</div>"
      ],
      "text/plain": [
       "      index  carrier_delay  weather_delay  nas_delay  security_delay  \\\n",
       "9995   9995           10.0            NaN       10.0             NaN   \n",
       "9996   9996            NaN            NaN        NaN             NaN   \n",
       "9997   9997            NaN            NaN        NaN             NaN   \n",
       "9998   9998            NaN            NaN        NaN             NaN   \n",
       "9999   9999            NaN            NaN        NaN             NaN   \n",
       "\n",
       "      late_aircraft_delay  total  \n",
       "9995                  5.0   25.0  \n",
       "9996                  NaN    0.0  \n",
       "9997                  NaN    0.0  \n",
       "9998                  NaN    0.0  \n",
       "9999                  NaN    0.0  "
      ]
     },
     "execution_count": 16,
     "metadata": {},
     "output_type": "execute_result"
    }
   ],
   "source": [
    "df1_melt.tail()"
   ]
  },
  {
   "cell_type": "code",
   "execution_count": 17,
   "metadata": {},
   "outputs": [
    {
     "data": {
      "text/html": [
       "<div>\n",
       "<style scoped>\n",
       "    .dataframe tbody tr th:only-of-type {\n",
       "        vertical-align: middle;\n",
       "    }\n",
       "\n",
       "    .dataframe tbody tr th {\n",
       "        vertical-align: top;\n",
       "    }\n",
       "\n",
       "    .dataframe thead th {\n",
       "        text-align: right;\n",
       "    }\n",
       "</style>\n",
       "<table border=\"1\" class=\"dataframe\">\n",
       "  <thead>\n",
       "    <tr style=\"text-align: right;\">\n",
       "      <th></th>\n",
       "      <th>index</th>\n",
       "      <th>carrier_delay</th>\n",
       "      <th>weather_delay</th>\n",
       "      <th>nas_delay</th>\n",
       "      <th>security_delay</th>\n",
       "      <th>late_aircraft_delay</th>\n",
       "      <th>total</th>\n",
       "    </tr>\n",
       "  </thead>\n",
       "  <tbody>\n",
       "    <tr>\n",
       "      <td>count</td>\n",
       "      <td>10000.00000</td>\n",
       "      <td>944.000000</td>\n",
       "      <td>149.000000</td>\n",
       "      <td>1301.000000</td>\n",
       "      <td>5.000000</td>\n",
       "      <td>964.000000</td>\n",
       "      <td>10000.000000</td>\n",
       "    </tr>\n",
       "    <tr>\n",
       "      <td>mean</td>\n",
       "      <td>4999.50000</td>\n",
       "      <td>34.804025</td>\n",
       "      <td>51.120805</td>\n",
       "      <td>29.478862</td>\n",
       "      <td>21.200000</td>\n",
       "      <td>47.430498</td>\n",
       "      <td>12.465300</td>\n",
       "    </tr>\n",
       "    <tr>\n",
       "      <td>std</td>\n",
       "      <td>2886.89568</td>\n",
       "      <td>52.049804</td>\n",
       "      <td>67.687069</td>\n",
       "      <td>39.200065</td>\n",
       "      <td>24.783059</td>\n",
       "      <td>52.465291</td>\n",
       "      <td>36.631123</td>\n",
       "    </tr>\n",
       "    <tr>\n",
       "      <td>min</td>\n",
       "      <td>0.00000</td>\n",
       "      <td>1.000000</td>\n",
       "      <td>1.000000</td>\n",
       "      <td>1.000000</td>\n",
       "      <td>6.000000</td>\n",
       "      <td>1.000000</td>\n",
       "      <td>0.000000</td>\n",
       "    </tr>\n",
       "    <tr>\n",
       "      <td>25%</td>\n",
       "      <td>2499.75000</td>\n",
       "      <td>8.000000</td>\n",
       "      <td>14.000000</td>\n",
       "      <td>9.000000</td>\n",
       "      <td>7.000000</td>\n",
       "      <td>17.000000</td>\n",
       "      <td>0.000000</td>\n",
       "    </tr>\n",
       "    <tr>\n",
       "      <td>50%</td>\n",
       "      <td>4999.50000</td>\n",
       "      <td>18.000000</td>\n",
       "      <td>31.000000</td>\n",
       "      <td>18.000000</td>\n",
       "      <td>13.000000</td>\n",
       "      <td>30.000000</td>\n",
       "      <td>0.000000</td>\n",
       "    </tr>\n",
       "    <tr>\n",
       "      <td>75%</td>\n",
       "      <td>7499.25000</td>\n",
       "      <td>40.000000</td>\n",
       "      <td>61.000000</td>\n",
       "      <td>31.000000</td>\n",
       "      <td>15.000000</td>\n",
       "      <td>58.000000</td>\n",
       "      <td>0.000000</td>\n",
       "    </tr>\n",
       "    <tr>\n",
       "      <td>max</td>\n",
       "      <td>9999.00000</td>\n",
       "      <td>832.000000</td>\n",
       "      <td>533.000000</td>\n",
       "      <td>385.000000</td>\n",
       "      <td>65.000000</td>\n",
       "      <td>686.000000</td>\n",
       "      <td>934.000000</td>\n",
       "    </tr>\n",
       "  </tbody>\n",
       "</table>\n",
       "</div>"
      ],
      "text/plain": [
       "             index  carrier_delay  weather_delay    nas_delay  security_delay  \\\n",
       "count  10000.00000     944.000000     149.000000  1301.000000        5.000000   \n",
       "mean    4999.50000      34.804025      51.120805    29.478862       21.200000   \n",
       "std     2886.89568      52.049804      67.687069    39.200065       24.783059   \n",
       "min        0.00000       1.000000       1.000000     1.000000        6.000000   \n",
       "25%     2499.75000       8.000000      14.000000     9.000000        7.000000   \n",
       "50%     4999.50000      18.000000      31.000000    18.000000       13.000000   \n",
       "75%     7499.25000      40.000000      61.000000    31.000000       15.000000   \n",
       "max     9999.00000     832.000000     533.000000   385.000000       65.000000   \n",
       "\n",
       "       late_aircraft_delay         total  \n",
       "count           964.000000  10000.000000  \n",
       "mean             47.430498     12.465300  \n",
       "std              52.465291     36.631123  \n",
       "min               1.000000      0.000000  \n",
       "25%              17.000000      0.000000  \n",
       "50%              30.000000      0.000000  \n",
       "75%              58.000000      0.000000  \n",
       "max             686.000000    934.000000  "
      ]
     },
     "execution_count": 17,
     "metadata": {},
     "output_type": "execute_result"
    }
   ],
   "source": [
    "df1_melt.describe()"
   ]
  },
  {
   "cell_type": "code",
   "execution_count": 18,
   "metadata": {},
   "outputs": [
    {
     "data": {
      "text/html": [
       "<div>\n",
       "<style scoped>\n",
       "    .dataframe tbody tr th:only-of-type {\n",
       "        vertical-align: middle;\n",
       "    }\n",
       "\n",
       "    .dataframe tbody tr th {\n",
       "        vertical-align: top;\n",
       "    }\n",
       "\n",
       "    .dataframe thead th {\n",
       "        text-align: right;\n",
       "    }\n",
       "</style>\n",
       "<table border=\"1\" class=\"dataframe\">\n",
       "  <thead>\n",
       "    <tr style=\"text-align: right;\">\n",
       "      <th></th>\n",
       "      <th>index</th>\n",
       "      <th>carrier_delay</th>\n",
       "      <th>weather_delay</th>\n",
       "      <th>nas_delay</th>\n",
       "      <th>security_delay</th>\n",
       "      <th>late_aircraft_delay</th>\n",
       "      <th>total</th>\n",
       "    </tr>\n",
       "  </thead>\n",
       "  <tbody>\n",
       "    <tr>\n",
       "      <td>0</td>\n",
       "      <td>0</td>\n",
       "      <td>8888.0</td>\n",
       "      <td>8888.0</td>\n",
       "      <td>8888.0</td>\n",
       "      <td>8888.0</td>\n",
       "      <td>8888.0</td>\n",
       "      <td>0.0</td>\n",
       "    </tr>\n",
       "    <tr>\n",
       "      <td>1</td>\n",
       "      <td>1</td>\n",
       "      <td>8888.0</td>\n",
       "      <td>8888.0</td>\n",
       "      <td>8888.0</td>\n",
       "      <td>8888.0</td>\n",
       "      <td>8888.0</td>\n",
       "      <td>0.0</td>\n",
       "    </tr>\n",
       "    <tr>\n",
       "      <td>2</td>\n",
       "      <td>2</td>\n",
       "      <td>8888.0</td>\n",
       "      <td>8888.0</td>\n",
       "      <td>8888.0</td>\n",
       "      <td>8888.0</td>\n",
       "      <td>8888.0</td>\n",
       "      <td>0.0</td>\n",
       "    </tr>\n",
       "    <tr>\n",
       "      <td>3</td>\n",
       "      <td>3</td>\n",
       "      <td>8888.0</td>\n",
       "      <td>8888.0</td>\n",
       "      <td>8888.0</td>\n",
       "      <td>8888.0</td>\n",
       "      <td>8888.0</td>\n",
       "      <td>0.0</td>\n",
       "    </tr>\n",
       "    <tr>\n",
       "      <td>4</td>\n",
       "      <td>4</td>\n",
       "      <td>8888.0</td>\n",
       "      <td>8888.0</td>\n",
       "      <td>8888.0</td>\n",
       "      <td>8888.0</td>\n",
       "      <td>8888.0</td>\n",
       "      <td>0.0</td>\n",
       "    </tr>\n",
       "  </tbody>\n",
       "</table>\n",
       "</div>"
      ],
      "text/plain": [
       "   index  carrier_delay  weather_delay  nas_delay  security_delay  \\\n",
       "0      0         8888.0         8888.0     8888.0          8888.0   \n",
       "1      1         8888.0         8888.0     8888.0          8888.0   \n",
       "2      2         8888.0         8888.0     8888.0          8888.0   \n",
       "3      3         8888.0         8888.0     8888.0          8888.0   \n",
       "4      4         8888.0         8888.0     8888.0          8888.0   \n",
       "\n",
       "   late_aircraft_delay  total  \n",
       "0               8888.0    0.0  \n",
       "1               8888.0    0.0  \n",
       "2               8888.0    0.0  \n",
       "3               8888.0    0.0  \n",
       "4               8888.0    0.0  "
      ]
     },
     "execution_count": 18,
     "metadata": {},
     "output_type": "execute_result"
    }
   ],
   "source": [
    "df1_melt.loc[df1_melt.total==0.0, ['carrier_delay', 'weather_delay', 'nas_delay', 'security_delay', 'late_aircraft_delay']]=8888\n",
    "df1_melt.head()"
   ]
  },
  {
   "cell_type": "code",
   "execution_count": 19,
   "metadata": {},
   "outputs": [
    {
     "data": {
      "text/html": [
       "<div>\n",
       "<style scoped>\n",
       "    .dataframe tbody tr th:only-of-type {\n",
       "        vertical-align: middle;\n",
       "    }\n",
       "\n",
       "    .dataframe tbody tr th {\n",
       "        vertical-align: top;\n",
       "    }\n",
       "\n",
       "    .dataframe thead th {\n",
       "        text-align: right;\n",
       "    }\n",
       "</style>\n",
       "<table border=\"1\" class=\"dataframe\">\n",
       "  <thead>\n",
       "    <tr style=\"text-align: right;\">\n",
       "      <th></th>\n",
       "      <th>index</th>\n",
       "      <th>total</th>\n",
       "      <th>delay_cause</th>\n",
       "      <th>delay_minute</th>\n",
       "    </tr>\n",
       "  </thead>\n",
       "  <tbody>\n",
       "    <tr>\n",
       "      <td>0</td>\n",
       "      <td>0</td>\n",
       "      <td>0.0</td>\n",
       "      <td>carrier_delay</td>\n",
       "      <td>8888.0</td>\n",
       "    </tr>\n",
       "    <tr>\n",
       "      <td>1</td>\n",
       "      <td>1</td>\n",
       "      <td>0.0</td>\n",
       "      <td>carrier_delay</td>\n",
       "      <td>8888.0</td>\n",
       "    </tr>\n",
       "    <tr>\n",
       "      <td>2</td>\n",
       "      <td>2</td>\n",
       "      <td>0.0</td>\n",
       "      <td>carrier_delay</td>\n",
       "      <td>8888.0</td>\n",
       "    </tr>\n",
       "    <tr>\n",
       "      <td>3</td>\n",
       "      <td>3</td>\n",
       "      <td>0.0</td>\n",
       "      <td>carrier_delay</td>\n",
       "      <td>8888.0</td>\n",
       "    </tr>\n",
       "    <tr>\n",
       "      <td>4</td>\n",
       "      <td>4</td>\n",
       "      <td>0.0</td>\n",
       "      <td>carrier_delay</td>\n",
       "      <td>8888.0</td>\n",
       "    </tr>\n",
       "  </tbody>\n",
       "</table>\n",
       "</div>"
      ],
      "text/plain": [
       "   index  total    delay_cause  delay_minute\n",
       "0      0    0.0  carrier_delay        8888.0\n",
       "1      1    0.0  carrier_delay        8888.0\n",
       "2      2    0.0  carrier_delay        8888.0\n",
       "3      3    0.0  carrier_delay        8888.0\n",
       "4      4    0.0  carrier_delay        8888.0"
      ]
     },
     "execution_count": 19,
     "metadata": {},
     "output_type": "execute_result"
    }
   ],
   "source": [
    "df1_melt=pd.melt(df1_melt, id_vars=['index','total'], var_name='delay_cause', value_name='delay_minute')\n",
    "df1_melt.head()"
   ]
  },
  {
   "cell_type": "code",
   "execution_count": 20,
   "metadata": {},
   "outputs": [],
   "source": [
    "df1_melt=df1_melt[df1_melt.delay_minute.notnull()]\n",
    "df1_melt.loc[df1_melt.delay_minute==8888, 'delay_cause']=np.nan"
   ]
  },
  {
   "cell_type": "code",
   "execution_count": 21,
   "metadata": {},
   "outputs": [
    {
     "data": {
      "text/html": [
       "<div>\n",
       "<style scoped>\n",
       "    .dataframe tbody tr th:only-of-type {\n",
       "        vertical-align: middle;\n",
       "    }\n",
       "\n",
       "    .dataframe tbody tr th {\n",
       "        vertical-align: top;\n",
       "    }\n",
       "\n",
       "    .dataframe thead th {\n",
       "        text-align: right;\n",
       "    }\n",
       "</style>\n",
       "<table border=\"1\" class=\"dataframe\">\n",
       "  <thead>\n",
       "    <tr style=\"text-align: right;\">\n",
       "      <th></th>\n",
       "      <th>index</th>\n",
       "      <th>total</th>\n",
       "      <th>delay_cause</th>\n",
       "      <th>delay_minute</th>\n",
       "    </tr>\n",
       "  </thead>\n",
       "  <tbody>\n",
       "    <tr>\n",
       "      <td>0</td>\n",
       "      <td>0</td>\n",
       "      <td>0.0</td>\n",
       "      <td>NaN</td>\n",
       "      <td>8888.0</td>\n",
       "    </tr>\n",
       "    <tr>\n",
       "      <td>1</td>\n",
       "      <td>1</td>\n",
       "      <td>0.0</td>\n",
       "      <td>NaN</td>\n",
       "      <td>8888.0</td>\n",
       "    </tr>\n",
       "    <tr>\n",
       "      <td>2</td>\n",
       "      <td>2</td>\n",
       "      <td>0.0</td>\n",
       "      <td>NaN</td>\n",
       "      <td>8888.0</td>\n",
       "    </tr>\n",
       "    <tr>\n",
       "      <td>3</td>\n",
       "      <td>3</td>\n",
       "      <td>0.0</td>\n",
       "      <td>NaN</td>\n",
       "      <td>8888.0</td>\n",
       "    </tr>\n",
       "    <tr>\n",
       "      <td>4</td>\n",
       "      <td>4</td>\n",
       "      <td>0.0</td>\n",
       "      <td>NaN</td>\n",
       "      <td>8888.0</td>\n",
       "    </tr>\n",
       "  </tbody>\n",
       "</table>\n",
       "</div>"
      ],
      "text/plain": [
       "   index  total delay_cause  delay_minute\n",
       "0      0    0.0         NaN        8888.0\n",
       "1      1    0.0         NaN        8888.0\n",
       "2      2    0.0         NaN        8888.0\n",
       "3      3    0.0         NaN        8888.0\n",
       "4      4    0.0         NaN        8888.0"
      ]
     },
     "execution_count": 21,
     "metadata": {},
     "output_type": "execute_result"
    }
   ],
   "source": [
    "df1_melt=df1_melt.drop_duplicates()\n",
    "df1_melt=df1_melt.reset_index(drop=True)\n",
    "df1_melt.head()"
   ]
  },
  {
   "cell_type": "code",
   "execution_count": 22,
   "metadata": {},
   "outputs": [
    {
     "data": {
      "text/plain": [
       "(11226, 4)"
      ]
     },
     "execution_count": 22,
     "metadata": {},
     "output_type": "execute_result"
    }
   ],
   "source": [
    "df1_melt.shape"
   ]
  },
  {
   "cell_type": "code",
   "execution_count": 23,
   "metadata": {},
   "outputs": [],
   "source": [
    "dup_index=df1_melt[df1_melt['index'].duplicated()]['index']"
   ]
  },
  {
   "cell_type": "code",
   "execution_count": 24,
   "metadata": {},
   "outputs": [
    {
     "data": {
      "text/html": [
       "<div>\n",
       "<style scoped>\n",
       "    .dataframe tbody tr th:only-of-type {\n",
       "        vertical-align: middle;\n",
       "    }\n",
       "\n",
       "    .dataframe tbody tr th {\n",
       "        vertical-align: top;\n",
       "    }\n",
       "\n",
       "    .dataframe thead th {\n",
       "        text-align: right;\n",
       "    }\n",
       "</style>\n",
       "<table border=\"1\" class=\"dataframe\">\n",
       "  <thead>\n",
       "    <tr style=\"text-align: right;\">\n",
       "      <th></th>\n",
       "      <th>index</th>\n",
       "      <th>total</th>\n",
       "      <th>delay_cause</th>\n",
       "      <th>delay_minute</th>\n",
       "    </tr>\n",
       "  </thead>\n",
       "  <tbody>\n",
       "    <tr>\n",
       "      <td>1626</td>\n",
       "      <td>1860</td>\n",
       "      <td>0.0</td>\n",
       "      <td>NaN</td>\n",
       "      <td>8888.0</td>\n",
       "    </tr>\n",
       "    <tr>\n",
       "      <td>1831</td>\n",
       "      <td>2102</td>\n",
       "      <td>0.0</td>\n",
       "      <td>NaN</td>\n",
       "      <td>8888.0</td>\n",
       "    </tr>\n",
       "    <tr>\n",
       "      <td>4783</td>\n",
       "      <td>5438</td>\n",
       "      <td>0.0</td>\n",
       "      <td>NaN</td>\n",
       "      <td>8888.0</td>\n",
       "    </tr>\n",
       "    <tr>\n",
       "      <td>5955</td>\n",
       "      <td>6746</td>\n",
       "      <td>28.0</td>\n",
       "      <td>carrier_delay</td>\n",
       "      <td>26.0</td>\n",
       "    </tr>\n",
       "    <tr>\n",
       "      <td>6220</td>\n",
       "      <td>7057</td>\n",
       "      <td>0.0</td>\n",
       "      <td>NaN</td>\n",
       "      <td>8888.0</td>\n",
       "    </tr>\n",
       "  </tbody>\n",
       "</table>\n",
       "</div>"
      ],
      "text/plain": [
       "      index  total    delay_cause  delay_minute\n",
       "1626   1860    0.0            NaN        8888.0\n",
       "1831   2102    0.0            NaN        8888.0\n",
       "4783   5438    0.0            NaN        8888.0\n",
       "5955   6746   28.0  carrier_delay          26.0\n",
       "6220   7057    0.0            NaN        8888.0"
      ]
     },
     "execution_count": 24,
     "metadata": {},
     "output_type": "execute_result"
    }
   ],
   "source": [
    "df1_melt.loc[dup_index, :].head()"
   ]
  },
  {
   "cell_type": "code",
   "execution_count": 25,
   "metadata": {},
   "outputs": [
    {
     "data": {
      "text/html": [
       "<div>\n",
       "<style scoped>\n",
       "    .dataframe tbody tr th:only-of-type {\n",
       "        vertical-align: middle;\n",
       "    }\n",
       "\n",
       "    .dataframe tbody tr th {\n",
       "        vertical-align: top;\n",
       "    }\n",
       "\n",
       "    .dataframe thead th {\n",
       "        text-align: right;\n",
       "    }\n",
       "</style>\n",
       "<table border=\"1\" class=\"dataframe\">\n",
       "  <thead>\n",
       "    <tr style=\"text-align: right;\">\n",
       "      <th></th>\n",
       "      <th>index</th>\n",
       "      <th>total</th>\n",
       "      <th>delay_minute</th>\n",
       "    </tr>\n",
       "  </thead>\n",
       "  <tbody>\n",
       "    <tr>\n",
       "      <td>count</td>\n",
       "      <td>11226.000000</td>\n",
       "      <td>11226.000000</td>\n",
       "      <td>11226.000000</td>\n",
       "    </tr>\n",
       "    <tr>\n",
       "      <td>mean</td>\n",
       "      <td>4975.733030</td>\n",
       "      <td>18.587208</td>\n",
       "      <td>6236.504276</td>\n",
       "    </tr>\n",
       "    <tr>\n",
       "      <td>std</td>\n",
       "      <td>2886.106361</td>\n",
       "      <td>44.171195</td>\n",
       "      <td>4054.623266</td>\n",
       "    </tr>\n",
       "    <tr>\n",
       "      <td>min</td>\n",
       "      <td>0.000000</td>\n",
       "      <td>0.000000</td>\n",
       "      <td>1.000000</td>\n",
       "    </tr>\n",
       "    <tr>\n",
       "      <td>25%</td>\n",
       "      <td>2467.250000</td>\n",
       "      <td>0.000000</td>\n",
       "      <td>61.000000</td>\n",
       "    </tr>\n",
       "    <tr>\n",
       "      <td>50%</td>\n",
       "      <td>4970.500000</td>\n",
       "      <td>0.000000</td>\n",
       "      <td>8888.000000</td>\n",
       "    </tr>\n",
       "    <tr>\n",
       "      <td>75%</td>\n",
       "      <td>7474.750000</td>\n",
       "      <td>20.000000</td>\n",
       "      <td>8888.000000</td>\n",
       "    </tr>\n",
       "    <tr>\n",
       "      <td>max</td>\n",
       "      <td>9999.000000</td>\n",
       "      <td>934.000000</td>\n",
       "      <td>8888.000000</td>\n",
       "    </tr>\n",
       "  </tbody>\n",
       "</table>\n",
       "</div>"
      ],
      "text/plain": [
       "              index         total  delay_minute\n",
       "count  11226.000000  11226.000000  11226.000000\n",
       "mean    4975.733030     18.587208   6236.504276\n",
       "std     2886.106361     44.171195   4054.623266\n",
       "min        0.000000      0.000000      1.000000\n",
       "25%     2467.250000      0.000000     61.000000\n",
       "50%     4970.500000      0.000000   8888.000000\n",
       "75%     7474.750000     20.000000   8888.000000\n",
       "max     9999.000000    934.000000   8888.000000"
      ]
     },
     "execution_count": 25,
     "metadata": {},
     "output_type": "execute_result"
    }
   ],
   "source": [
    "df1_melt.describe()"
   ]
  },
  {
   "cell_type": "code",
   "execution_count": 26,
   "metadata": {},
   "outputs": [
    {
     "data": {
      "text/html": [
       "<div>\n",
       "<style scoped>\n",
       "    .dataframe tbody tr th:only-of-type {\n",
       "        vertical-align: middle;\n",
       "    }\n",
       "\n",
       "    .dataframe tbody tr th {\n",
       "        vertical-align: top;\n",
       "    }\n",
       "\n",
       "    .dataframe thead th {\n",
       "        text-align: right;\n",
       "    }\n",
       "</style>\n",
       "<table border=\"1\" class=\"dataframe\">\n",
       "  <thead>\n",
       "    <tr style=\"text-align: right;\">\n",
       "      <th></th>\n",
       "      <th>index</th>\n",
       "      <th>year</th>\n",
       "      <th>month</th>\n",
       "      <th>day_of_month</th>\n",
       "      <th>day_of_week</th>\n",
       "      <th>unique_carrier</th>\n",
       "      <th>flight_num</th>\n",
       "      <th>actual_elapsed_time</th>\n",
       "      <th>s_elapsed_time</th>\n",
       "      <th>arr_delay</th>\n",
       "      <th>...</th>\n",
       "      <th>diverted</th>\n",
       "      <th>carrier_delay</th>\n",
       "      <th>weather_delay</th>\n",
       "      <th>nas_delay</th>\n",
       "      <th>security_delay</th>\n",
       "      <th>late_aircraft_delay</th>\n",
       "      <th>depart_time</th>\n",
       "      <th>arrive_time</th>\n",
       "      <th>schedule_dep_time</th>\n",
       "      <th>schedule_arr_time</th>\n",
       "    </tr>\n",
       "  </thead>\n",
       "  <tbody>\n",
       "    <tr>\n",
       "      <td>9995</td>\n",
       "      <td>9995</td>\n",
       "      <td>2008</td>\n",
       "      <td>5</td>\n",
       "      <td>18</td>\n",
       "      <td>7</td>\n",
       "      <td>WN</td>\n",
       "      <td>1918</td>\n",
       "      <td>135.0</td>\n",
       "      <td>125.0</td>\n",
       "      <td>25.0</td>\n",
       "      <td>...</td>\n",
       "      <td>0</td>\n",
       "      <td>10.0</td>\n",
       "      <td>0.0</td>\n",
       "      <td>10.0</td>\n",
       "      <td>0.0</td>\n",
       "      <td>5.0</td>\n",
       "      <td>08:10</td>\n",
       "      <td>09:25</td>\n",
       "      <td>07:55</td>\n",
       "      <td>09:00</td>\n",
       "    </tr>\n",
       "    <tr>\n",
       "      <td>9996</td>\n",
       "      <td>9996</td>\n",
       "      <td>2008</td>\n",
       "      <td>2</td>\n",
       "      <td>27</td>\n",
       "      <td>3</td>\n",
       "      <td>XE</td>\n",
       "      <td>2406</td>\n",
       "      <td>54.0</td>\n",
       "      <td>65.0</td>\n",
       "      <td>-11.0</td>\n",
       "      <td>...</td>\n",
       "      <td>0</td>\n",
       "      <td>NaN</td>\n",
       "      <td>NaN</td>\n",
       "      <td>NaN</td>\n",
       "      <td>NaN</td>\n",
       "      <td>NaN</td>\n",
       "      <td>16:00</td>\n",
       "      <td>16:54</td>\n",
       "      <td>16:00</td>\n",
       "      <td>17:05</td>\n",
       "    </tr>\n",
       "    <tr>\n",
       "      <td>9997</td>\n",
       "      <td>9997</td>\n",
       "      <td>2008</td>\n",
       "      <td>5</td>\n",
       "      <td>16</td>\n",
       "      <td>5</td>\n",
       "      <td>WN</td>\n",
       "      <td>2792</td>\n",
       "      <td>137.0</td>\n",
       "      <td>155.0</td>\n",
       "      <td>-18.0</td>\n",
       "      <td>...</td>\n",
       "      <td>0</td>\n",
       "      <td>NaN</td>\n",
       "      <td>NaN</td>\n",
       "      <td>NaN</td>\n",
       "      <td>NaN</td>\n",
       "      <td>NaN</td>\n",
       "      <td>06:25</td>\n",
       "      <td>07:42</td>\n",
       "      <td>06:25</td>\n",
       "      <td>08:00</td>\n",
       "    </tr>\n",
       "    <tr>\n",
       "      <td>9998</td>\n",
       "      <td>9998</td>\n",
       "      <td>2008</td>\n",
       "      <td>5</td>\n",
       "      <td>1</td>\n",
       "      <td>4</td>\n",
       "      <td>B6</td>\n",
       "      <td>1061</td>\n",
       "      <td>249.0</td>\n",
       "      <td>244.0</td>\n",
       "      <td>-3.0</td>\n",
       "      <td>...</td>\n",
       "      <td>0</td>\n",
       "      <td>NaN</td>\n",
       "      <td>NaN</td>\n",
       "      <td>NaN</td>\n",
       "      <td>NaN</td>\n",
       "      <td>NaN</td>\n",
       "      <td>09:12</td>\n",
       "      <td>12:21</td>\n",
       "      <td>09:20</td>\n",
       "      <td>12:24</td>\n",
       "    </tr>\n",
       "    <tr>\n",
       "      <td>9999</td>\n",
       "      <td>9999</td>\n",
       "      <td>2008</td>\n",
       "      <td>8</td>\n",
       "      <td>11</td>\n",
       "      <td>1</td>\n",
       "      <td>WN</td>\n",
       "      <td>439</td>\n",
       "      <td>73.0</td>\n",
       "      <td>75.0</td>\n",
       "      <td>4.0</td>\n",
       "      <td>...</td>\n",
       "      <td>0</td>\n",
       "      <td>NaN</td>\n",
       "      <td>NaN</td>\n",
       "      <td>NaN</td>\n",
       "      <td>NaN</td>\n",
       "      <td>NaN</td>\n",
       "      <td>12:41</td>\n",
       "      <td>13:54</td>\n",
       "      <td>12:35</td>\n",
       "      <td>13:50</td>\n",
       "    </tr>\n",
       "  </tbody>\n",
       "</table>\n",
       "<p>5 rows × 24 columns</p>\n",
       "</div>"
      ],
      "text/plain": [
       "      index  year  month  day_of_month  day_of_week unique_carrier  \\\n",
       "9995   9995  2008      5            18            7             WN   \n",
       "9996   9996  2008      2            27            3             XE   \n",
       "9997   9997  2008      5            16            5             WN   \n",
       "9998   9998  2008      5             1            4             B6   \n",
       "9999   9999  2008      8            11            1             WN   \n",
       "\n",
       "      flight_num  actual_elapsed_time  s_elapsed_time  arr_delay  ...  \\\n",
       "9995        1918                135.0           125.0       25.0  ...   \n",
       "9996        2406                 54.0            65.0      -11.0  ...   \n",
       "9997        2792                137.0           155.0      -18.0  ...   \n",
       "9998        1061                249.0           244.0       -3.0  ...   \n",
       "9999         439                 73.0            75.0        4.0  ...   \n",
       "\n",
       "      diverted carrier_delay weather_delay  nas_delay  security_delay  \\\n",
       "9995         0          10.0           0.0       10.0             0.0   \n",
       "9996         0           NaN           NaN        NaN             NaN   \n",
       "9997         0           NaN           NaN        NaN             NaN   \n",
       "9998         0           NaN           NaN        NaN             NaN   \n",
       "9999         0           NaN           NaN        NaN             NaN   \n",
       "\n",
       "      late_aircraft_delay  depart_time  arrive_time  schedule_dep_time  \\\n",
       "9995                  5.0        08:10        09:25              07:55   \n",
       "9996                  NaN        16:00        16:54              16:00   \n",
       "9997                  NaN        06:25        07:42              06:25   \n",
       "9998                  NaN        09:12        12:21              09:20   \n",
       "9999                  NaN        12:41        13:54              12:35   \n",
       "\n",
       "      schedule_arr_time  \n",
       "9995              09:00  \n",
       "9996              17:05  \n",
       "9997              08:00  \n",
       "9998              12:24  \n",
       "9999              13:50  \n",
       "\n",
       "[5 rows x 24 columns]"
      ]
     },
     "execution_count": 26,
     "metadata": {},
     "output_type": "execute_result"
    }
   ],
   "source": [
    "df1_clean.reset_index(inplace=True)\n",
    "df1_clean.tail()"
   ]
  },
  {
   "cell_type": "code",
   "execution_count": 27,
   "metadata": {},
   "outputs": [
    {
     "data": {
      "text/html": [
       "<div>\n",
       "<style scoped>\n",
       "    .dataframe tbody tr th:only-of-type {\n",
       "        vertical-align: middle;\n",
       "    }\n",
       "\n",
       "    .dataframe tbody tr th {\n",
       "        vertical-align: top;\n",
       "    }\n",
       "\n",
       "    .dataframe thead th {\n",
       "        text-align: right;\n",
       "    }\n",
       "</style>\n",
       "<table border=\"1\" class=\"dataframe\">\n",
       "  <thead>\n",
       "    <tr style=\"text-align: right;\">\n",
       "      <th></th>\n",
       "      <th>index</th>\n",
       "      <th>total</th>\n",
       "      <th>delay_cause</th>\n",
       "      <th>delay_minute</th>\n",
       "    </tr>\n",
       "  </thead>\n",
       "  <tbody>\n",
       "    <tr>\n",
       "      <td>11221</td>\n",
       "      <td>9968</td>\n",
       "      <td>112.0</td>\n",
       "      <td>late_aircraft_delay</td>\n",
       "      <td>99.0</td>\n",
       "    </tr>\n",
       "    <tr>\n",
       "      <td>11222</td>\n",
       "      <td>9972</td>\n",
       "      <td>291.0</td>\n",
       "      <td>late_aircraft_delay</td>\n",
       "      <td>19.0</td>\n",
       "    </tr>\n",
       "    <tr>\n",
       "      <td>11223</td>\n",
       "      <td>9976</td>\n",
       "      <td>76.0</td>\n",
       "      <td>late_aircraft_delay</td>\n",
       "      <td>76.0</td>\n",
       "    </tr>\n",
       "    <tr>\n",
       "      <td>11224</td>\n",
       "      <td>9989</td>\n",
       "      <td>17.0</td>\n",
       "      <td>late_aircraft_delay</td>\n",
       "      <td>17.0</td>\n",
       "    </tr>\n",
       "    <tr>\n",
       "      <td>11225</td>\n",
       "      <td>9995</td>\n",
       "      <td>25.0</td>\n",
       "      <td>late_aircraft_delay</td>\n",
       "      <td>5.0</td>\n",
       "    </tr>\n",
       "  </tbody>\n",
       "</table>\n",
       "</div>"
      ],
      "text/plain": [
       "       index  total          delay_cause  delay_minute\n",
       "11221   9968  112.0  late_aircraft_delay          99.0\n",
       "11222   9972  291.0  late_aircraft_delay          19.0\n",
       "11223   9976   76.0  late_aircraft_delay          76.0\n",
       "11224   9989   17.0  late_aircraft_delay          17.0\n",
       "11225   9995   25.0  late_aircraft_delay           5.0"
      ]
     },
     "execution_count": 27,
     "metadata": {},
     "output_type": "execute_result"
    }
   ],
   "source": [
    "df1_melt.tail()"
   ]
  },
  {
   "cell_type": "code",
   "execution_count": 28,
   "metadata": {},
   "outputs": [
    {
     "data": {
      "text/html": [
       "<div>\n",
       "<style scoped>\n",
       "    .dataframe tbody tr th:only-of-type {\n",
       "        vertical-align: middle;\n",
       "    }\n",
       "\n",
       "    .dataframe tbody tr th {\n",
       "        vertical-align: top;\n",
       "    }\n",
       "\n",
       "    .dataframe thead th {\n",
       "        text-align: right;\n",
       "    }\n",
       "</style>\n",
       "<table border=\"1\" class=\"dataframe\">\n",
       "  <thead>\n",
       "    <tr style=\"text-align: right;\">\n",
       "      <th></th>\n",
       "      <th>index</th>\n",
       "      <th>year</th>\n",
       "      <th>month</th>\n",
       "      <th>day_of_month</th>\n",
       "      <th>day_of_week</th>\n",
       "      <th>unique_carrier</th>\n",
       "      <th>flight_num</th>\n",
       "      <th>actual_elapsed_time</th>\n",
       "      <th>s_elapsed_time</th>\n",
       "      <th>arr_delay</th>\n",
       "      <th>...</th>\n",
       "      <th>nas_delay</th>\n",
       "      <th>security_delay</th>\n",
       "      <th>late_aircraft_delay</th>\n",
       "      <th>depart_time</th>\n",
       "      <th>arrive_time</th>\n",
       "      <th>schedule_dep_time</th>\n",
       "      <th>schedule_arr_time</th>\n",
       "      <th>total</th>\n",
       "      <th>delay_cause</th>\n",
       "      <th>delay_minute</th>\n",
       "    </tr>\n",
       "  </thead>\n",
       "  <tbody>\n",
       "    <tr>\n",
       "      <td>0</td>\n",
       "      <td>0</td>\n",
       "      <td>2008</td>\n",
       "      <td>8</td>\n",
       "      <td>27</td>\n",
       "      <td>3</td>\n",
       "      <td>US</td>\n",
       "      <td>1548</td>\n",
       "      <td>278.0</td>\n",
       "      <td>296.0</td>\n",
       "      <td>3.0</td>\n",
       "      <td>...</td>\n",
       "      <td>NaN</td>\n",
       "      <td>NaN</td>\n",
       "      <td>NaN</td>\n",
       "      <td>11:21</td>\n",
       "      <td>18:59</td>\n",
       "      <td>11:00</td>\n",
       "      <td>18:56</td>\n",
       "      <td>0.0</td>\n",
       "      <td>NaN</td>\n",
       "      <td>8888.0</td>\n",
       "    </tr>\n",
       "    <tr>\n",
       "      <td>1</td>\n",
       "      <td>1</td>\n",
       "      <td>2008</td>\n",
       "      <td>1</td>\n",
       "      <td>31</td>\n",
       "      <td>4</td>\n",
       "      <td>WN</td>\n",
       "      <td>351</td>\n",
       "      <td>75.0</td>\n",
       "      <td>85.0</td>\n",
       "      <td>-16.0</td>\n",
       "      <td>...</td>\n",
       "      <td>NaN</td>\n",
       "      <td>NaN</td>\n",
       "      <td>NaN</td>\n",
       "      <td>11:04</td>\n",
       "      <td>12:19</td>\n",
       "      <td>11:10</td>\n",
       "      <td>12:35</td>\n",
       "      <td>0.0</td>\n",
       "      <td>NaN</td>\n",
       "      <td>8888.0</td>\n",
       "    </tr>\n",
       "    <tr>\n",
       "      <td>2</td>\n",
       "      <td>2</td>\n",
       "      <td>2008</td>\n",
       "      <td>3</td>\n",
       "      <td>27</td>\n",
       "      <td>4</td>\n",
       "      <td>NW</td>\n",
       "      <td>1722</td>\n",
       "      <td>63.0</td>\n",
       "      <td>70.0</td>\n",
       "      <td>-10.0</td>\n",
       "      <td>...</td>\n",
       "      <td>NaN</td>\n",
       "      <td>NaN</td>\n",
       "      <td>NaN</td>\n",
       "      <td>05:57</td>\n",
       "      <td>08:00</td>\n",
       "      <td>06:00</td>\n",
       "      <td>08:10</td>\n",
       "      <td>0.0</td>\n",
       "      <td>NaN</td>\n",
       "      <td>8888.0</td>\n",
       "    </tr>\n",
       "    <tr>\n",
       "      <td>3</td>\n",
       "      <td>3</td>\n",
       "      <td>2008</td>\n",
       "      <td>10</td>\n",
       "      <td>11</td>\n",
       "      <td>6</td>\n",
       "      <td>DL</td>\n",
       "      <td>660</td>\n",
       "      <td>105.0</td>\n",
       "      <td>115.0</td>\n",
       "      <td>-12.0</td>\n",
       "      <td>...</td>\n",
       "      <td>NaN</td>\n",
       "      <td>NaN</td>\n",
       "      <td>NaN</td>\n",
       "      <td>09:28</td>\n",
       "      <td>11:13</td>\n",
       "      <td>09:30</td>\n",
       "      <td>11:25</td>\n",
       "      <td>0.0</td>\n",
       "      <td>NaN</td>\n",
       "      <td>8888.0</td>\n",
       "    </tr>\n",
       "    <tr>\n",
       "      <td>4</td>\n",
       "      <td>4</td>\n",
       "      <td>2008</td>\n",
       "      <td>1</td>\n",
       "      <td>27</td>\n",
       "      <td>7</td>\n",
       "      <td>9E</td>\n",
       "      <td>2910</td>\n",
       "      <td>131.0</td>\n",
       "      <td>138.0</td>\n",
       "      <td>-11.0</td>\n",
       "      <td>...</td>\n",
       "      <td>NaN</td>\n",
       "      <td>NaN</td>\n",
       "      <td>NaN</td>\n",
       "      <td>09:08</td>\n",
       "      <td>10:19</td>\n",
       "      <td>09:12</td>\n",
       "      <td>10:30</td>\n",
       "      <td>0.0</td>\n",
       "      <td>NaN</td>\n",
       "      <td>8888.0</td>\n",
       "    </tr>\n",
       "  </tbody>\n",
       "</table>\n",
       "<p>5 rows × 27 columns</p>\n",
       "</div>"
      ],
      "text/plain": [
       "   index  year  month  day_of_month  day_of_week unique_carrier  flight_num  \\\n",
       "0      0  2008      8            27            3             US        1548   \n",
       "1      1  2008      1            31            4             WN         351   \n",
       "2      2  2008      3            27            4             NW        1722   \n",
       "3      3  2008     10            11            6             DL         660   \n",
       "4      4  2008      1            27            7             9E        2910   \n",
       "\n",
       "   actual_elapsed_time  s_elapsed_time  arr_delay  ...  nas_delay  \\\n",
       "0                278.0           296.0        3.0  ...        NaN   \n",
       "1                 75.0            85.0      -16.0  ...        NaN   \n",
       "2                 63.0            70.0      -10.0  ...        NaN   \n",
       "3                105.0           115.0      -12.0  ...        NaN   \n",
       "4                131.0           138.0      -11.0  ...        NaN   \n",
       "\n",
       "  security_delay late_aircraft_delay  depart_time  arrive_time  \\\n",
       "0            NaN                 NaN        11:21        18:59   \n",
       "1            NaN                 NaN        11:04        12:19   \n",
       "2            NaN                 NaN        05:57        08:00   \n",
       "3            NaN                 NaN        09:28        11:13   \n",
       "4            NaN                 NaN        09:08        10:19   \n",
       "\n",
       "   schedule_dep_time  schedule_arr_time  total  delay_cause  delay_minute  \n",
       "0              11:00              18:56    0.0          NaN        8888.0  \n",
       "1              11:10              12:35    0.0          NaN        8888.0  \n",
       "2              06:00              08:10    0.0          NaN        8888.0  \n",
       "3              09:30              11:25    0.0          NaN        8888.0  \n",
       "4              09:12              10:30    0.0          NaN        8888.0  \n",
       "\n",
       "[5 rows x 27 columns]"
      ]
     },
     "execution_count": 28,
     "metadata": {},
     "output_type": "execute_result"
    }
   ],
   "source": [
    "df1_clean=pd.merge(df1_clean, df1_melt, on='index', how='inner')\n",
    "df1_clean.head()"
   ]
  },
  {
   "cell_type": "code",
   "execution_count": 29,
   "metadata": {},
   "outputs": [],
   "source": [
    "df1_clean.loc[df1_clean.delay_minute==8888.0, 'delay_minute']=np.nan"
   ]
  },
  {
   "cell_type": "code",
   "execution_count": 30,
   "metadata": {},
   "outputs": [
    {
     "data": {
      "text/plain": [
       "(11226, 27)"
      ]
     },
     "execution_count": 30,
     "metadata": {},
     "output_type": "execute_result"
    }
   ],
   "source": [
    "df1_clean.shape"
   ]
  },
  {
   "cell_type": "code",
   "execution_count": 31,
   "metadata": {},
   "outputs": [],
   "source": [
    "df1_clean.drop(['carrier_delay', 'weather_delay', 'nas_delay', 'security_delay', 'late_aircraft_delay'], axis=1, inplace=True)\n",
    "df1_clean.delay_minute.replace(8888.0, np.nan, inplace=True)\n",
    "df1_clean.rename(columns={'total':'total_delay'}, inplace=True)"
   ]
  },
  {
   "cell_type": "code",
   "execution_count": 32,
   "metadata": {},
   "outputs": [],
   "source": [
    "conv_to_str=['index','year','day_of_month','flight_num']\n",
    "conv_to_cat=['cancelled', 'diverted','month','day_of_week']\n",
    "\n",
    "for col in conv_to_str:\n",
    "    df1_clean[col]=df1_clean[col].astype(str)\n",
    "    \n",
    "for col in conv_to_cat:\n",
    "    df1_clean[col]=df1_clean[col].astype('category')\n"
   ]
  },
  {
   "cell_type": "code",
   "execution_count": 33,
   "metadata": {},
   "outputs": [
    {
     "name": "stdout",
     "output_type": "stream",
     "text": [
      "<class 'pandas.core.frame.DataFrame'>\n",
      "Int64Index: 11226 entries, 0 to 11225\n",
      "Data columns (total 22 columns):\n",
      "index                  11226 non-null object\n",
      "year                   11226 non-null object\n",
      "month                  11226 non-null category\n",
      "day_of_month           11226 non-null object\n",
      "day_of_week            11226 non-null category\n",
      "unique_carrier         11226 non-null object\n",
      "flight_num             11226 non-null object\n",
      "actual_elapsed_time    11007 non-null float64\n",
      "s_elapsed_time         11226 non-null float64\n",
      "arr_delay              11007 non-null float64\n",
      "dep_delay              11030 non-null float64\n",
      "origin                 11226 non-null object\n",
      "dest                   11226 non-null object\n",
      "cancelled              11226 non-null category\n",
      "diverted               11226 non-null category\n",
      "depart_time            11030 non-null object\n",
      "arrive_time            11009 non-null object\n",
      "schedule_dep_time      11226 non-null object\n",
      "schedule_arr_time      11226 non-null object\n",
      "total_delay            11226 non-null float64\n",
      "delay_cause            3363 non-null object\n",
      "delay_minute           3363 non-null float64\n",
      "dtypes: category(4), float64(6), object(12)\n",
      "memory usage: 1.7+ MB\n"
     ]
    }
   ],
   "source": [
    "df1_clean.info()"
   ]
  },
  {
   "cell_type": "code",
   "execution_count": 34,
   "metadata": {},
   "outputs": [
    {
     "data": {
      "image/png": "[encoded data removed]",
      "text/plain": [
       "<Figure size 720x576 with 6 Axes>"
      ]
     },
     "metadata": {
      "needs_background": "light"
     },
     "output_type": "display_data"
    }
   ],
   "source": [
    "df1_clean.hist(figsize=(10,8));"
   ]
  },
  {
   "cell_type": "markdown",
   "metadata": {},
   "source": [
    "### What is the structure of your dataset?\n",
    "\n",
    "There are 100,000 flights records in the dataset with 29 features. After some data wrangling process, I have 22 variables in the data which may be helpful later, 4 category variables, 6 floats, and 12 strings. Month, day_of_month, day_of_week, cancelled, diverted, they can be either string or category, depart_time, schedule_dep_time, arrive_time, schedule_arr_time, since I don't need further timing calculation from them, I formatted them as hh:mm with string type. All the time measurement columns are float with unit minutes. \n",
    "\n",
    "### What is/are the main feature(s) of interest in your dataset?\n",
    "\n",
    "When taking flights, my concerns were always about the flight would delay or not. So here, I am very interested in the reasons and causes of delay status, also, the delay situation from different locations and all the carriers. \n",
    "\n",
    "### What features in the dataset do you think will help support your investigation into your feature(s) of interest?\n",
    "\n",
    "For the causes and reasons that lead a flight to delay, I think may roughly divided to two groups: natural causes that are not controllable, business strategy that are affected by human operations. The data summarized 5 aspects that causes delay:carrier_delay, weather_delay, nas_delay, security_delay, late_aircraft_delay, and we also have the records for each carrier. I am sure those variables will give us good pictures of the delay status.\n",
    "\n",
    "## Univariate Exploration\n",
    "\n",
    "I'll start by looking at the distribution of the main variable of interest: arrive delay."
   ]
  },
  {
   "cell_type": "code",
   "execution_count": 35,
   "metadata": {},
   "outputs": [
    {
     "data": {
      "text/plain": [
       "count    11007.000000\n",
       "mean        15.019806\n",
       "std         46.980395\n",
       "min        -54.000000\n",
       "25%         -9.000000\n",
       "50%          0.000000\n",
       "75%         21.000000\n",
       "max        934.000000\n",
       "Name: arr_delay, dtype: float64"
      ]
     },
     "execution_count": 35,
     "metadata": {},
     "output_type": "execute_result"
    }
   ],
   "source": [
    "df1_clean.arr_delay.describe()"
   ]
  },
  {
   "cell_type": "code",
   "execution_count": 36,
   "metadata": {},
   "outputs": [
    {
     "data": {
      "text/plain": [
       "219"
      ]
     },
     "execution_count": 36,
     "metadata": {},
     "output_type": "execute_result"
    }
   ],
   "source": [
    "df1_clean.arr_delay.isnull().sum()"
   ]
  },
  {
   "cell_type": "code",
   "execution_count": 37,
   "metadata": {},
   "outputs": [
    {
     "data": {
      "text/plain": [
       "Index(['index', 'year', 'month', 'day_of_month', 'day_of_week',\n",
       "       'unique_carrier', 'flight_num', 'actual_elapsed_time', 's_elapsed_time',\n",
       "       'arr_delay', 'dep_delay', 'origin', 'dest', 'cancelled', 'diverted',\n",
       "       'depart_time', 'arrive_time', 'schedule_dep_time', 'schedule_arr_time',\n",
       "       'total_delay', 'delay_cause', 'delay_minute'],\n",
       "      dtype='object')"
      ]
     },
     "execution_count": 37,
     "metadata": {},
     "output_type": "execute_result"
    }
   ],
   "source": [
    "df1_clean.columns"
   ]
  },
  {
   "cell_type": "code",
   "execution_count": 38,
   "metadata": {},
   "outputs": [
    {
     "data": {
      "image/png": "[encoded data removed]",
      "text/plain": [
       "<Figure size 576x360 with 1 Axes>"
      ]
     },
     "metadata": {
      "needs_background": "light"
     },
     "output_type": "display_data"
    }
   ],
   "source": [
    "bins = np.arange(0, df1_clean['arr_delay'].max()+10,10)\n",
    "\n",
    "plt.figure(figsize=[8, 5])\n",
    "plt.hist(data = df1_clean, x = 'arr_delay', bins = bins)\n",
    "plt.title('The Minutes of Arrival Delay in 2007')\n",
    "plt.xlim(0,934)\n",
    "plt.xlabel('delay(in mins)')\n",
    "plt.ylabel('number of flights')\n",
    "plt.show()"
   ]
  },
  {
   "cell_type": "code",
   "execution_count": 39,
   "metadata": {},
   "outputs": [
    {
     "data": {
      "image/png": "[encoded data removed]",
      "text/plain": [
       "<Figure size 576x432 with 1 Axes>"
      ]
     },
     "metadata": {
      "needs_background": "light"
     },
     "output_type": "display_data"
    }
   ],
   "source": [
    "bin_edges = 10 ** np.arange(0, np.log10(df1_clean.arr_delay.max())+0.1, 0.1);\n",
    "plt.figure(figsize=(8,6));\n",
    "plt.hist(data=df1_clean, x='arr_delay', bins = bin_edges);\n",
    "plt.title('Logorithm of Arrival Delay')\n",
    "plt.xscale('log');\n",
    "tick_locs = [1,3,10, 30, 100, 300, 1000];\n",
    "plt.xticks(tick_locs, tick_locs);"
   ]
  },
  {
   "cell_type": "code",
   "execution_count": 40,
   "metadata": {},
   "outputs": [
    {
     "data": {
      "image/png": "[encoded data removed]",
      "text/plain": [
       "<Figure size 576x576 with 1 Axes>"
      ]
     },
     "metadata": {},
     "output_type": "display_data"
    }
   ],
   "source": [
    "val1=df1_clean[df1_clean.arr_delay>0].shape[0]/df1_clean.shape[0]\n",
    "val2=df1_clean[df1_clean.arr_delay<=0].shape[0]/df1_clean.shape[0]\n",
    "val3=df1_clean[df1_clean.arr_delay.isnull()].shape[0]/df1_clean.shape[0]\n",
    "\n",
    "value_list=[val1, val2, val3]\n",
    "label_list=['delayed', 'not_delay', 'not_available']\n",
    "color_list=['lightskyblue','yellowgreen', 'orange']\n",
    "explode_list=[0.1, 0, 0]\n",
    "plt.figure(figsize=(8, 8))\n",
    "plt.pie(value_list, shadow=True, labels=label_list, startangle=45, autopct='%.2f%%', colors=color_list, explode=explode_list)\n",
    "plt.title('US Flights Delay Percentage')\n",
    "plt.show()"
   ]
  },
  {
   "cell_type": "markdown",
   "metadata": {},
   "source": [
    "> Make sure that, after every plot or related series of plots, that you\n",
    "include a Markdown cell with comments about what you observed, and what\n",
    "you plan on investigating next."
   ]
  },
  {
   "cell_type": "code",
   "execution_count": 41,
   "metadata": {},
   "outputs": [
    {
     "data": {
      "image/png": "[encoded data removed]",
      "text/plain": [
       "<Figure size 576x432 with 1 Axes>"
      ]
     },
     "metadata": {
      "needs_background": "light"
     },
     "output_type": "display_data"
    }
   ],
   "source": [
    "plt.figure(figsize=(8,6))\n",
    "df1_clean.delay_cause.value_counts().plot(kind='bar')\n",
    "plt.title('Count of Delay Reasons')\n",
    "plt.ylabel('flight count')\n",
    "plt.xticks(rotation=20)\n",
    "\n",
    "locs, labels=plt.xticks()\n",
    "counts=df1_clean.delay_cause.value_counts()\n",
    "for loc, label in zip(locs, labels):\n",
    "    count=counts[label.get_text()]\n",
    "    plt.text(loc, count, count, ha='center', color='black' )"
   ]
  },
  {
   "cell_type": "code",
   "execution_count": 42,
   "metadata": {},
   "outputs": [],
   "source": [
    "mask=df1_clean.arr_delay>0\n",
    "delay_flight=df1_clean[mask]"
   ]
  },
  {
   "cell_type": "code",
   "execution_count": 43,
   "metadata": {},
   "outputs": [
    {
     "data": {
      "image/png": "[encoded data removed]",
      "text/plain": [
       "<Figure size 576x576 with 2 Axes>"
      ]
     },
     "metadata": {
      "needs_background": "light"
     },
     "output_type": "display_data"
    }
   ],
   "source": [
    "fig, ax = plt.subplots(nrows=2,figsize = [8,8])\n",
    "default_color = sb.color_palette()[0]\n",
    "\n",
    "sb.countplot(data = delay_flight, color=default_color,x = 'unique_carrier', ax = ax[0])\n",
    "sb.countplot(data = delay_flight, color=default_color,x = 'day_of_week', ax = ax[1])\n",
    "\n",
    "plt.show()"
   ]
  },
  {
   "cell_type": "code",
   "execution_count": 44,
   "metadata": {},
   "outputs": [
    {
     "data": {
      "image/png": "[encoded data removed]",
      "text/plain": [
       "<Figure size 1152x576 with 2 Axes>"
      ]
     },
     "metadata": {
      "needs_background": "light"
     },
     "output_type": "display_data"
    }
   ],
   "source": [
    "origin_20=delay_flight.origin.value_counts().sort_values(ascending=True).tail(20)\n",
    "dest_20=delay_flight.dest.value_counts().sort_values(ascending=True).tail(20)\n",
    "\n",
    "plt.figure(figsize=(16,8))\n",
    "plt.subplot(1,2,1)\n",
    "origin_20.plot(kind='barh')\n",
    "plt.title('The 20 Origin Airport with Most Counts of Delay')\n",
    "plt.ylabel('departure airport')\n",
    "plt.xlabel('flight count')\n",
    "\n",
    "plt.subplot(1,2,2)\n",
    "dest_20.plot(kind='barh')\n",
    "plt.title('The 20 Destination Airport with Most Counts of Delay')\n",
    "plt.ylabel('arrival airport')\n",
    "plt.xlabel('flight count')\n",
    "\n",
    "plt.show()"
   ]
  },
  {
   "cell_type": "markdown",
   "metadata": {},
   "source": [
    "### Discuss the distribution(s) of your variable(s) of interest. Were there any unusual points? Did you need to perform any transformations?\n",
    "\n",
    "The arrival delay variable is the variable of interest and the distribution of delay variable has a long tail to the right. So, I perform the log transform of the data. Under the transformation, the data shows unimodal distribution with one peak between 10 minutes and 30 minutes.\n",
    "\n",
    "### Of the features you investigated, were there any unusual distributions? Did you perform any operations on the data to tidy, adjust, or change the form of the data? If so, why did you do this?\n",
    "The features that I am interested in are the reasons, causes, locations and carriers that affect the time of delay. From the univariate charts above we can see that \n",
    "the nas_delay has the most count, and the security_delay has the least. The distribution of delay in carriers, day of the week are reasonable to me, and I believe the airports in the rank of most delays will have some connections with the causes. I think the causes of the delay should be in one column, after melt the five columns and cleaned some data type quality issues, the data is clean and tidy. "
   ]
  },
  {
   "cell_type": "markdown",
   "metadata": {},
   "source": [
    "## Bivariate Exploration\n",
    "\n",
    "> In this section, investigate relationships between pairs of variables in your\n",
    "data. Make sure the variables that you cover here have been introduced in some\n",
    "fashion in the previous section (univariate exploration)."
   ]
  },
  {
   "cell_type": "code",
   "execution_count": 45,
   "metadata": {},
   "outputs": [
    {
     "data": {
      "text/plain": [
       "Index(['actual_elapsed_time', 's_elapsed_time', 'arr_delay', 'dep_delay',\n",
       "       'total_delay', 'delay_minute'],\n",
       "      dtype='object')"
      ]
     },
     "execution_count": 45,
     "metadata": {},
     "output_type": "execute_result"
    }
   ],
   "source": [
    "df1_clean.describe().columns"
   ]
  },
  {
   "cell_type": "code",
   "execution_count": 46,
   "metadata": {},
   "outputs": [
    {
     "data": {
      "image/png": "[encoded data removed]",
      "text/plain": [
       "<Figure size 576x432 with 2 Axes>"
      ]
     },
     "metadata": {
      "needs_background": "light"
     },
     "output_type": "display_data"
    }
   ],
   "source": [
    "numeric_vars = ['actual_elapsed_time', 's_elapsed_time', 'arr_delay', 'dep_delay','total_delay', 'delay_minute']\n",
    "# correlation plot\n",
    "plt.figure(figsize = [8, 6])\n",
    "sb.heatmap(delay_flight.corr(), annot = True, fmt = '0.3f',cmap = 'coolwarm', center=0,annot_kws={'color': 'black'})\n",
    "plt.xticks(rotation = 45)\n",
    "plt.show()"
   ]
  },
  {
   "cell_type": "code",
   "execution_count": 47,
   "metadata": {},
   "outputs": [
    {
     "name": "stderr",
     "output_type": "stream",
     "text": [
      "/home/jupyterlab/conda/envs/python/lib/python3.6/site-packages/pandas/core/indexing.py:1418: FutureWarning: \n",
      "Passing list-likes to .loc or [] with any missing label will raise\n",
      "KeyError in the future, you can use .reindex() as an alternative.\n",
      "\n",
      "See the documentation here:\n",
      "https://pandas.pydata.org/pandas-docs/stable/user_guide/indexing.html#deprecate-loc-reindex-listlike\n",
      "  return self._getitem_tuple(key)\n",
      "/home/jupyterlab/conda/envs/python/lib/python3.6/site-packages/numpy/lib/histograms.py:754: RuntimeWarning: invalid value encountered in greater_equal\n",
      "  keep = (tmp_a >= first_edge)\n",
      "/home/jupyterlab/conda/envs/python/lib/python3.6/site-packages/numpy/lib/histograms.py:755: RuntimeWarning: invalid value encountered in less_equal\n",
      "  keep &= (tmp_a <= last_edge)\n"
     ]
    },
    {
     "data": {
      "text/plain": [
       "<seaborn.axisgrid.PairGrid at 0x7f9920ecedd8>"
      ]
     },
     "execution_count": 47,
     "metadata": {},
     "output_type": "execute_result"
    },
    {
     "data": {
      "image/png": "[encoded data removed]",
      "text/plain": [
       "<Figure size 1080x1080 with 42 Axes>"
      ]
     },
     "metadata": {
      "needs_background": "light"
     },
     "output_type": "display_data"
    }
   ],
   "source": [
    "samples = np.random.choice(delay_flight.shape[0], 500, replace = False)\n",
    "df1_samp = delay_flight.loc[samples,:]\n",
    "\n",
    "g = sb.PairGrid(data = df1_samp, vars = numeric_vars)\n",
    "g = g.map_diag(plt.hist, bins = 20);\n",
    "g.map_offdiag(plt.scatter)"
   ]
  },
  {
   "cell_type": "markdown",
   "metadata": {},
   "source": [
    "The heat map of correlation shows that the stronger correlation, the darker color in the map above, and the diagonal is the correlation with the variable itself. actual elapsed time has strong positive correlation with scheduled elapsed time, arrival delay, departure delay and total delay are highly correlated with each other.The scatter-histogram plot also show the same features which are meet our expectations "
   ]
  },
  {
   "cell_type": "markdown",
   "metadata": {},
   "source": [
    "**delay_minute column need delete**"
   ]
  },
  {
   "cell_type": "code",
   "execution_count": 48,
   "metadata": {},
   "outputs": [
    {
     "data": {
      "text/html": [
       "<div>\n",
       "<style scoped>\n",
       "    .dataframe tbody tr th:only-of-type {\n",
       "        vertical-align: middle;\n",
       "    }\n",
       "\n",
       "    .dataframe tbody tr th {\n",
       "        vertical-align: top;\n",
       "    }\n",
       "\n",
       "    .dataframe thead th {\n",
       "        text-align: right;\n",
       "    }\n",
       "</style>\n",
       "<table border=\"1\" class=\"dataframe\">\n",
       "  <thead>\n",
       "    <tr style=\"text-align: right;\">\n",
       "      <th></th>\n",
       "      <th>index</th>\n",
       "      <th>year</th>\n",
       "      <th>month</th>\n",
       "      <th>day_of_month</th>\n",
       "      <th>day_of_week</th>\n",
       "      <th>unique_carrier</th>\n",
       "      <th>flight_num</th>\n",
       "      <th>actual_elapsed_time</th>\n",
       "      <th>s_elapsed_time</th>\n",
       "      <th>arr_delay</th>\n",
       "      <th>...</th>\n",
       "      <th>dest</th>\n",
       "      <th>cancelled</th>\n",
       "      <th>diverted</th>\n",
       "      <th>depart_time</th>\n",
       "      <th>arrive_time</th>\n",
       "      <th>schedule_dep_time</th>\n",
       "      <th>schedule_arr_time</th>\n",
       "      <th>total_delay</th>\n",
       "      <th>delay_cause</th>\n",
       "      <th>delay_minute</th>\n",
       "    </tr>\n",
       "  </thead>\n",
       "  <tbody>\n",
       "    <tr>\n",
       "      <td>0</td>\n",
       "      <td>0</td>\n",
       "      <td>2008</td>\n",
       "      <td>8</td>\n",
       "      <td>27</td>\n",
       "      <td>3</td>\n",
       "      <td>US</td>\n",
       "      <td>1548</td>\n",
       "      <td>278.0</td>\n",
       "      <td>296.0</td>\n",
       "      <td>3.0</td>\n",
       "      <td>...</td>\n",
       "      <td>CLT</td>\n",
       "      <td>0</td>\n",
       "      <td>0</td>\n",
       "      <td>11:21</td>\n",
       "      <td>18:59</td>\n",
       "      <td>11:00</td>\n",
       "      <td>18:56</td>\n",
       "      <td>0.0</td>\n",
       "      <td>NaN</td>\n",
       "      <td>NaN</td>\n",
       "    </tr>\n",
       "    <tr>\n",
       "      <td>5</td>\n",
       "      <td>5</td>\n",
       "      <td>2008</td>\n",
       "      <td>8</td>\n",
       "      <td>17</td>\n",
       "      <td>7</td>\n",
       "      <td>WN</td>\n",
       "      <td>2315</td>\n",
       "      <td>80.0</td>\n",
       "      <td>75.0</td>\n",
       "      <td>11.0</td>\n",
       "      <td>...</td>\n",
       "      <td>LAS</td>\n",
       "      <td>0</td>\n",
       "      <td>0</td>\n",
       "      <td>11:11</td>\n",
       "      <td>12:31</td>\n",
       "      <td>11:05</td>\n",
       "      <td>12:20</td>\n",
       "      <td>0.0</td>\n",
       "      <td>NaN</td>\n",
       "      <td>NaN</td>\n",
       "    </tr>\n",
       "    <tr>\n",
       "      <td>12</td>\n",
       "      <td>12</td>\n",
       "      <td>2008</td>\n",
       "      <td>9</td>\n",
       "      <td>25</td>\n",
       "      <td>4</td>\n",
       "      <td>OO</td>\n",
       "      <td>3938</td>\n",
       "      <td>103.0</td>\n",
       "      <td>97.0</td>\n",
       "      <td>2.0</td>\n",
       "      <td>...</td>\n",
       "      <td>COS</td>\n",
       "      <td>0</td>\n",
       "      <td>0</td>\n",
       "      <td>13:43</td>\n",
       "      <td>15:26</td>\n",
       "      <td>13:47</td>\n",
       "      <td>15:24</td>\n",
       "      <td>0.0</td>\n",
       "      <td>NaN</td>\n",
       "      <td>NaN</td>\n",
       "    </tr>\n",
       "    <tr>\n",
       "      <td>14</td>\n",
       "      <td>14</td>\n",
       "      <td>2008</td>\n",
       "      <td>7</td>\n",
       "      <td>20</td>\n",
       "      <td>7</td>\n",
       "      <td>B6</td>\n",
       "      <td>1073</td>\n",
       "      <td>93.0</td>\n",
       "      <td>87.0</td>\n",
       "      <td>2.0</td>\n",
       "      <td>...</td>\n",
       "      <td>RIC</td>\n",
       "      <td>0</td>\n",
       "      <td>0</td>\n",
       "      <td>07:46</td>\n",
       "      <td>09:19</td>\n",
       "      <td>07:50</td>\n",
       "      <td>09:17</td>\n",
       "      <td>0.0</td>\n",
       "      <td>NaN</td>\n",
       "      <td>NaN</td>\n",
       "    </tr>\n",
       "    <tr>\n",
       "      <td>15</td>\n",
       "      <td>15</td>\n",
       "      <td>2008</td>\n",
       "      <td>1</td>\n",
       "      <td>23</td>\n",
       "      <td>3</td>\n",
       "      <td>B6</td>\n",
       "      <td>353</td>\n",
       "      <td>389.0</td>\n",
       "      <td>371.0</td>\n",
       "      <td>18.0</td>\n",
       "      <td>...</td>\n",
       "      <td>BUR</td>\n",
       "      <td>0</td>\n",
       "      <td>0</td>\n",
       "      <td>09:20</td>\n",
       "      <td>12:49</td>\n",
       "      <td>09:20</td>\n",
       "      <td>12:31</td>\n",
       "      <td>18.0</td>\n",
       "      <td>nas_delay</td>\n",
       "      <td>18.0</td>\n",
       "    </tr>\n",
       "  </tbody>\n",
       "</table>\n",
       "<p>5 rows × 22 columns</p>\n",
       "</div>"
      ],
      "text/plain": [
       "   index  year month day_of_month day_of_week unique_carrier flight_num  \\\n",
       "0      0  2008     8           27           3             US       1548   \n",
       "5      5  2008     8           17           7             WN       2315   \n",
       "12    12  2008     9           25           4             OO       3938   \n",
       "14    14  2008     7           20           7             B6       1073   \n",
       "15    15  2008     1           23           3             B6        353   \n",
       "\n",
       "    actual_elapsed_time  s_elapsed_time  arr_delay  ...  dest cancelled  \\\n",
       "0                 278.0           296.0        3.0  ...   CLT         0   \n",
       "5                  80.0            75.0       11.0  ...   LAS         0   \n",
       "12                103.0            97.0        2.0  ...   COS         0   \n",
       "14                 93.0            87.0        2.0  ...   RIC         0   \n",
       "15                389.0           371.0       18.0  ...   BUR         0   \n",
       "\n",
       "   diverted depart_time arrive_time schedule_dep_time schedule_arr_time  \\\n",
       "0         0       11:21       18:59             11:00             18:56   \n",
       "5         0       11:11       12:31             11:05             12:20   \n",
       "12        0       13:43       15:26             13:47             15:24   \n",
       "14        0       07:46       09:19             07:50             09:17   \n",
       "15        0       09:20       12:49             09:20             12:31   \n",
       "\n",
       "   total_delay delay_cause  delay_minute  \n",
       "0          0.0         NaN           NaN  \n",
       "5          0.0         NaN           NaN  \n",
       "12         0.0         NaN           NaN  \n",
       "14         0.0         NaN           NaN  \n",
       "15        18.0   nas_delay          18.0  \n",
       "\n",
       "[5 rows x 22 columns]"
      ]
     },
     "execution_count": 48,
     "metadata": {},
     "output_type": "execute_result"
    }
   ],
   "source": [
    "delay_flight.head()"
   ]
  },
  {
   "cell_type": "code",
   "execution_count": 49,
   "metadata": {},
   "outputs": [
    {
     "data": {
      "text/plain": [
       "Text(0, 0.5, 'total_delay(in min)')"
      ]
     },
     "execution_count": 49,
     "metadata": {},
     "output_type": "execute_result"
    },
    {
     "data": {
      "image/png": "[encoded data removed]",
      "text/plain": [
       "<Figure size 1080x576 with 1 Axes>"
      ]
     },
     "metadata": {
      "needs_background": "light"
     },
     "output_type": "display_data"
    }
   ],
   "source": [
    "plt.figure(figsize=(15,8))\n",
    "base_color = sb.color_palette()[0]\n",
    "sb.boxplot(data = delay_flight, x = 'unique_carrier',  y = 'total_delay',color = base_color)\n",
    "plt.title('Delay Boxplot of Unique Carriers')\n",
    "plt.ylabel('total_delay(in min)')"
   ]
  },
  {
   "cell_type": "code",
   "execution_count": 50,
   "metadata": {},
   "outputs": [
    {
     "name": "stderr",
     "output_type": "stream",
     "text": [
      "/home/jupyterlab/conda/envs/python/lib/python3.6/site-packages/pandas/core/indexing.py:1418: FutureWarning: \n",
      "Passing list-likes to .loc or [] with any missing label will raise\n",
      "KeyError in the future, you can use .reindex() as an alternative.\n",
      "\n",
      "See the documentation here:\n",
      "https://pandas.pydata.org/pandas-docs/stable/user_guide/indexing.html#deprecate-loc-reindex-listlike\n",
      "  return self._getitem_tuple(key)\n",
      "/home/jupyterlab/conda/envs/python/lib/python3.6/site-packages/seaborn/axisgrid.py:1241: UserWarning: The `size` paramter has been renamed to `height`; please update your code.\n",
      "  warnings.warn(UserWarning(msg))\n"
     ]
    },
    {
     "data": {
      "text/plain": [
       "<Figure size 1440x720 with 0 Axes>"
      ]
     },
     "metadata": {},
     "output_type": "display_data"
    },
    {
     "data": {
      "image/png": "[encoded data removed]",
      "text/plain": [
       "<Figure size 1080x360 with 2 Axes>"
      ]
     },
     "metadata": {
      "needs_background": "light"
     },
     "output_type": "display_data"
    }
   ],
   "source": [
    "\n",
    "samples = np.random.choice(delay_flight.shape[0], 2000, replace = False)\n",
    "flight_samp = delay_flight.loc[samples,:]\n",
    "\n",
    "def boxgrid(x, y, **kwargs):\n",
    "    \"\"\" Quick hack for creating box plots with seaborn's PairGrid. \"\"\"\n",
    "    default_color = sb.color_palette()[0]\n",
    "    sb.boxplot(x, y, color = default_color)\n",
    "\n",
    "plt.figure(figsize = [20, 10])\n",
    "g = sb.PairGrid(data = flight_samp, y_vars = ['arr_delay'], x_vars = ['delay_cause','month'],\n",
    "                size = 5,aspect=1.5)\n",
    "g.map(boxgrid)\n",
    "plt.show();"
   ]
  },
  {
   "cell_type": "code",
   "execution_count": 51,
   "metadata": {},
   "outputs": [
    {
     "name": "stderr",
     "output_type": "stream",
     "text": [
      "/home/jupyterlab/conda/envs/python/lib/python3.6/site-packages/scipy/stats/stats.py:1713: FutureWarning: Using a non-tuple sequence for multidimensional indexing is deprecated; use `arr[tuple(seq)]` instead of `arr[seq]`. In the future this will be interpreted as an array index, `arr[np.array(seq)]`, which will result either in an error or a different result.\n",
      "  return np.add.reduce(sorted[indexer] * weights, axis=axis) / sumval\n"
     ]
    },
    {
     "data": {
      "text/plain": [
       "<matplotlib.axes._subplots.AxesSubplot at 0x7f9919e920b8>"
      ]
     },
     "execution_count": 51,
     "metadata": {},
     "output_type": "execute_result"
    },
    {
     "data": {
      "image/png": "[encoded data removed]",
      "text/plain": [
       "<Figure size 1440x576 with 1 Axes>"
      ]
     },
     "metadata": {
      "needs_background": "light"
     },
     "output_type": "display_data"
    }
   ],
   "source": [
    "list=origin_20.index\n",
    "origin_list=delay_flight.query('origin in list')\n",
    "plt.figure(figsize=(20,8))\n",
    "base_color = sb.color_palette()[0]\n",
    "sb.violinplot(data = origin_list, x = 'origin', y = 'arr_delay', color = base_color)"
   ]
  },
  {
   "cell_type": "code",
   "execution_count": 52,
   "metadata": {},
   "outputs": [
    {
     "data": {
      "text/plain": [
       "<matplotlib.axes._subplots.AxesSubplot at 0x7f9919a84ba8>"
      ]
     },
     "execution_count": 52,
     "metadata": {},
     "output_type": "execute_result"
    },
    {
     "data": {
      "image/png": "[encoded data removed]",
      "text/plain": [
       "<Figure size 1440x576 with 1 Axes>"
      ]
     },
     "metadata": {
      "needs_background": "light"
     },
     "output_type": "display_data"
    }
   ],
   "source": [
    "list=dest_20.index\n",
    "dest_list=delay_flight.query('dest in list')\n",
    "plt.figure(figsize=(20,8))\n",
    "base_color = sb.color_palette()[0]\n",
    "sb.violinplot(data = dest_list, x = 'dest', y = 'arr_delay', color = base_color)"
   ]
  },
  {
   "cell_type": "code",
   "execution_count": 53,
   "metadata": {},
   "outputs": [],
   "source": [
    "delay_trans=delay_flight.groupby('month')['delay_cause'].value_counts()\n",
    "delay_trans=pd.DataFrame(delay_trans, index=None)\n",
    "delay_trans.columns=['count']\n",
    "delay_trans.reset_index(inplace=True)"
   ]
  },
  {
   "cell_type": "code",
   "execution_count": 54,
   "metadata": {},
   "outputs": [
    {
     "data": {
      "text/html": [
       "<div>\n",
       "<style scoped>\n",
       "    .dataframe tbody tr th:only-of-type {\n",
       "        vertical-align: middle;\n",
       "    }\n",
       "\n",
       "    .dataframe tbody tr th {\n",
       "        vertical-align: top;\n",
       "    }\n",
       "\n",
       "    .dataframe thead th {\n",
       "        text-align: right;\n",
       "    }\n",
       "</style>\n",
       "<table border=\"1\" class=\"dataframe\">\n",
       "  <thead>\n",
       "    <tr style=\"text-align: right;\">\n",
       "      <th></th>\n",
       "      <th>month</th>\n",
       "      <th>carrier_delay</th>\n",
       "      <th>late_aircraft_delay</th>\n",
       "      <th>nas_delay</th>\n",
       "      <th>security_delay</th>\n",
       "      <th>weather_delay</th>\n",
       "    </tr>\n",
       "  </thead>\n",
       "  <tbody>\n",
       "    <tr>\n",
       "      <td>0</td>\n",
       "      <td>1</td>\n",
       "      <td>96.0</td>\n",
       "      <td>81.0</td>\n",
       "      <td>126.0</td>\n",
       "      <td>1.0</td>\n",
       "      <td>13.0</td>\n",
       "    </tr>\n",
       "    <tr>\n",
       "      <td>1</td>\n",
       "      <td>2</td>\n",
       "      <td>82.0</td>\n",
       "      <td>105.0</td>\n",
       "      <td>120.0</td>\n",
       "      <td>NaN</td>\n",
       "      <td>17.0</td>\n",
       "    </tr>\n",
       "    <tr>\n",
       "      <td>2</td>\n",
       "      <td>3</td>\n",
       "      <td>103.0</td>\n",
       "      <td>104.0</td>\n",
       "      <td>152.0</td>\n",
       "      <td>1.0</td>\n",
       "      <td>21.0</td>\n",
       "    </tr>\n",
       "    <tr>\n",
       "      <td>3</td>\n",
       "      <td>4</td>\n",
       "      <td>68.0</td>\n",
       "      <td>77.0</td>\n",
       "      <td>116.0</td>\n",
       "      <td>NaN</td>\n",
       "      <td>5.0</td>\n",
       "    </tr>\n",
       "    <tr>\n",
       "      <td>4</td>\n",
       "      <td>5</td>\n",
       "      <td>69.0</td>\n",
       "      <td>78.0</td>\n",
       "      <td>112.0</td>\n",
       "      <td>NaN</td>\n",
       "      <td>13.0</td>\n",
       "    </tr>\n",
       "    <tr>\n",
       "      <td>5</td>\n",
       "      <td>6</td>\n",
       "      <td>102.0</td>\n",
       "      <td>106.0</td>\n",
       "      <td>145.0</td>\n",
       "      <td>2.0</td>\n",
       "      <td>22.0</td>\n",
       "    </tr>\n",
       "    <tr>\n",
       "      <td>6</td>\n",
       "      <td>7</td>\n",
       "      <td>69.0</td>\n",
       "      <td>86.0</td>\n",
       "      <td>125.0</td>\n",
       "      <td>NaN</td>\n",
       "      <td>20.0</td>\n",
       "    </tr>\n",
       "    <tr>\n",
       "      <td>7</td>\n",
       "      <td>8</td>\n",
       "      <td>98.0</td>\n",
       "      <td>85.0</td>\n",
       "      <td>98.0</td>\n",
       "      <td>1.0</td>\n",
       "      <td>10.0</td>\n",
       "    </tr>\n",
       "    <tr>\n",
       "      <td>8</td>\n",
       "      <td>9</td>\n",
       "      <td>48.0</td>\n",
       "      <td>37.0</td>\n",
       "      <td>48.0</td>\n",
       "      <td>NaN</td>\n",
       "      <td>2.0</td>\n",
       "    </tr>\n",
       "    <tr>\n",
       "      <td>9</td>\n",
       "      <td>10</td>\n",
       "      <td>47.0</td>\n",
       "      <td>41.0</td>\n",
       "      <td>60.0</td>\n",
       "      <td>NaN</td>\n",
       "      <td>3.0</td>\n",
       "    </tr>\n",
       "    <tr>\n",
       "      <td>10</td>\n",
       "      <td>11</td>\n",
       "      <td>49.0</td>\n",
       "      <td>54.0</td>\n",
       "      <td>65.0</td>\n",
       "      <td>NaN</td>\n",
       "      <td>5.0</td>\n",
       "    </tr>\n",
       "    <tr>\n",
       "      <td>11</td>\n",
       "      <td>12</td>\n",
       "      <td>113.0</td>\n",
       "      <td>110.0</td>\n",
       "      <td>134.0</td>\n",
       "      <td>NaN</td>\n",
       "      <td>18.0</td>\n",
       "    </tr>\n",
       "  </tbody>\n",
       "</table>\n",
       "</div>"
      ],
      "text/plain": [
       "   month  carrier_delay  late_aircraft_delay  nas_delay  security_delay  \\\n",
       "0      1           96.0                 81.0      126.0             1.0   \n",
       "1      2           82.0                105.0      120.0             NaN   \n",
       "2      3          103.0                104.0      152.0             1.0   \n",
       "3      4           68.0                 77.0      116.0             NaN   \n",
       "4      5           69.0                 78.0      112.0             NaN   \n",
       "5      6          102.0                106.0      145.0             2.0   \n",
       "6      7           69.0                 86.0      125.0             NaN   \n",
       "7      8           98.0                 85.0       98.0             1.0   \n",
       "8      9           48.0                 37.0       48.0             NaN   \n",
       "9     10           47.0                 41.0       60.0             NaN   \n",
       "10    11           49.0                 54.0       65.0             NaN   \n",
       "11    12          113.0                110.0      134.0             NaN   \n",
       "\n",
       "    weather_delay  \n",
       "0            13.0  \n",
       "1            17.0  \n",
       "2            21.0  \n",
       "3             5.0  \n",
       "4            13.0  \n",
       "5            22.0  \n",
       "6            20.0  \n",
       "7            10.0  \n",
       "8             2.0  \n",
       "9             3.0  \n",
       "10            5.0  \n",
       "11           18.0  "
      ]
     },
     "execution_count": 54,
     "metadata": {},
     "output_type": "execute_result"
    }
   ],
   "source": [
    "delay_trans=delay_trans.pivot(index='month', columns='delay_cause', values='count').reset_index().rename_axis(None, axis=1)\n",
    "delay_trans"
   ]
  },
  {
   "cell_type": "code",
   "execution_count": 55,
   "metadata": {},
   "outputs": [],
   "source": [
    "norm_carrier = (delay_trans['carrier_delay'] - delay_trans['carrier_delay'].min()) / (delay_trans['carrier_delay'].max() - delay_trans['carrier_delay'].min())\n",
    "\n",
    "# normalize Argentina data\n",
    "norm_weather = (delay_trans['weather_delay'] - delay_trans['weather_delay'].min()) / (delay_trans['weather_delay'].max() - delay_trans['weather_delay'].min())\n",
    "\n"
   ]
  },
  {
   "cell_type": "code",
   "execution_count": 56,
   "metadata": {},
   "outputs": [],
   "source": [
    "delay_trans['month']=delay_trans['month'].astype(int)"
   ]
  },
  {
   "cell_type": "code",
   "execution_count": 67,
   "metadata": {},
   "outputs": [
    {
     "data": {
      "text/plain": [
       "<matplotlib.legend.Legend at 0x7f991944d208>"
      ]
     },
     "execution_count": 67,
     "metadata": {},
     "output_type": "execute_result"
    },
    {
     "data": {
      "image/png": "[encoded data removed]",
      "text/plain": [
       "<Figure size 1008x576 with 1 Axes>"
      ]
     },
     "metadata": {
      "needs_background": "light"
     },
     "output_type": "display_data"
    }
   ],
   "source": [
    "ax0 = delay_trans.plot(kind='scatter',x='month', y='carrier_delay',figsize=(14, 8), alpha=0.5, color='green',s=norm_carrier * 200,\n",
    "                       xticks=np.arange(0,13,1))\n",
    "ax1 = delay_trans.plot(kind='scatter',x='month',y='weather_delay',alpha=0.5,color=\"blue\",s=norm_weather * 200,ax = ax0)\n",
    "ax2 = delay_trans.plot(kind='line',x='month',y='carrier_delay',alpha=0.5,color=\"green\",ax = ax0)\n",
    "ax3 = delay_trans.plot(kind='line',x='month',y='weather_delay',alpha=0.5,color=\"blue\",ax = ax0)\n",
    "\n",
    "ax0.set_ylabel('Number of Arrival Delays')\n",
    "ax0.set_title('Flight Delay Count from January to December')\n",
    "ax0.legend(['carrier', 'weather'], loc='upper left', fontsize='x-large')"
   ]
  },
  {
   "cell_type": "markdown",
   "metadata": {},
   "source": [
    "### Talk about some of the relationships you observed in this part of the investigation. How did the feature(s) of interest vary with other features in the dataset?\n",
    "\n",
    "> Your answer here!\n",
    "\n",
    "### Did you observe any interesting relationships between the other features (not the main feature(s) of interest)?\n",
    "\n",
    "> Your answer here!"
   ]
  },
  {
   "cell_type": "markdown",
   "metadata": {},
   "source": [
    "## Multivariate Exploration\n",
    "\n",
    "> Create plots of three or more variables to investigate your data even\n",
    "further. Make sure that your investigations are justified, and follow from\n",
    "your work in the previous sections."
   ]
  },
  {
   "cell_type": "code",
   "execution_count": null,
   "metadata": {},
   "outputs": [],
   "source": [
    "delay_flight.delay_cause.value_counts().index"
   ]
  },
  {
   "cell_type": "code",
   "execution_count": null,
   "metadata": {},
   "outputs": [],
   "source": [
    "cat_markers = [['carrier_delay', 'o'],\n",
    "               ['nas_delay', 's'], \n",
    "               ['late_aircraft_delay', '^'],\n",
    "               ['weather_delay', '.'], \n",
    "               ['security_delay', '*']\n",
    "              ]\n",
    "\n",
    "for cat, marker in cat_markers:\n",
    "    df_cat = delay_flight[delay_flight['delay_cause'] == cat]\n",
    "    plt.scatter(data = df_cat, x = 'arr_delay', y = 'total_delay', marker = marker)\n",
    "plt.legend(['carrier','nas', 'late_aircraft', 'weather', 'security'])"
   ]
  },
  {
   "cell_type": "code",
   "execution_count": null,
   "metadata": {},
   "outputs": [],
   "source": [
    "delay_flight.info()"
   ]
  },
  {
   "cell_type": "code",
   "execution_count": null,
   "metadata": {},
   "outputs": [],
   "source": [
    "delay_flight.head()"
   ]
  },
  {
   "cell_type": "code",
   "execution_count": null,
   "metadata": {},
   "outputs": [],
   "source": [
    "trans_columns=['nas_delay', 'late_aircraft_delay', 'carrier_delay', 'weather_delay',\n",
    "       'security_delay']\n"
   ]
  },
  {
   "cell_type": "code",
   "execution_count": null,
   "metadata": {},
   "outputs": [],
   "source": [
    "# a=[2000, 2001,2002, 2003]\n",
    "# b=['a', 'b', 'c', 'd']\n",
    "# ziplist=list(zip(a,b))\n",
    "# c=pd.DataFrame(ziplist, columns=['cat', 'num'], index=[0,1,2,3])\n",
    "# c\n",
    "\n",
    "\n",
    "listOfNames =  ['jack', 'Riti', 'Aadi']\n",
    "listOfAge   =  [34, 30, 16]\n",
    "listOfCity  =  ['Sydney', 'Delhi', 'New york']\n",
    "dfObj = pd.DataFrame(listOfNames, listOfAge, listOfCity)"
   ]
  },
  {
   "cell_type": "code",
   "execution_count": null,
   "metadata": {},
   "outputs": [],
   "source": [
    "import numpy as np\n",
    "\n",
    "a = np.array([(1,2,3), (4,5,6)])\n",
    "\n",
    "b = a.transpose()"
   ]
  },
  {
   "cell_type": "code",
   "execution_count": null,
   "metadata": {},
   "outputs": [],
   "source": []
  },
  {
   "cell_type": "code",
   "execution_count": null,
   "metadata": {},
   "outputs": [],
   "source": [
    "a"
   ]
  },
  {
   "cell_type": "code",
   "execution_count": null,
   "metadata": {},
   "outputs": [],
   "source": [
    "b"
   ]
  },
  {
   "cell_type": "code",
   "execution_count": null,
   "metadata": {},
   "outputs": [],
   "source": []
  },
  {
   "cell_type": "code",
   "execution_count": null,
   "metadata": {},
   "outputs": [],
   "source": []
  },
  {
   "cell_type": "code",
   "execution_count": null,
   "metadata": {},
   "outputs": [],
   "source": []
  },
  {
   "cell_type": "code",
   "execution_count": null,
   "metadata": {},
   "outputs": [],
   "source": []
  },
  {
   "cell_type": "code",
   "execution_count": null,
   "metadata": {},
   "outputs": [],
   "source": []
  },
  {
   "cell_type": "code",
   "execution_count": null,
   "metadata": {},
   "outputs": [],
   "source": []
  },
  {
   "cell_type": "code",
   "execution_count": null,
   "metadata": {},
   "outputs": [],
   "source": []
  },
  {
   "cell_type": "code",
   "execution_count": null,
   "metadata": {},
   "outputs": [],
   "source": []
  },
  {
   "cell_type": "code",
   "execution_count": null,
   "metadata": {},
   "outputs": [],
   "source": []
  },
  {
   "cell_type": "markdown",
   "metadata": {},
   "source": [
    "### Explanatory\n",
    "\n",
    "Document your Story,In your readme document, you should summarize your main findings and reflect on the steps you took in your data exploration. You should also lay out the key insights that you want to convey in your explanatory report as well as any changes to visualizations, or note new visualizations that will be created to bridge between your insights.\n",
    "\n",
    "\n",
    "\n",
    "Create your Slide Deck,Follow the plans you laid out in the previous step and create a slide deck with explanatory data visualizations to tell a story about the data you explored. You can start with code that you used in your exploration, but you should make sure that the code is revised so that your plots are polished. Make sure that you also pay attention to aspects of design integrity in your revisions\n"
   ]
  },
  {
   "cell_type": "markdown",
   "metadata": {},
   "source": [
    "### Talk about some of the relationships you observed in this part of the investigation. Were there features that strengthened each other in terms of looking at your feature(s) of interest?\n",
    "\n",
    "> Your answer here!\n",
    "\n",
    "### Were there any interesting or surprising interactions between features?\n",
    "\n",
    "> Your answer here!"
   ]
  },
  {
   "cell_type": "markdown",
   "metadata": {},
   "source": [
    "> At the end of your report, make sure that you export the notebook as an\n",
    "html file from the `File > Download as... > HTML` menu. Make sure you keep\n",
    "track of where the exported file goes, so you can put it in the same folder\n",
    "as this notebook for project submission. Also, make sure you remove all of\n",
    "the quote-formatted guide notes like this one before you finish your report!"
   ]
  },
  {
   "cell_type": "markdown",
   "metadata": {},
   "source": [
    "### (Optional) Get Feedback\n",
    "- What do you notice about each visualization?\n",
    "- What questions do you have about the data?\n",
    "- What relationships do you notice?\n",
    "- What do you think is the main takeaway from the slide deck?\n",
    "- Is there anything that you don’t understand from the plots?\n"
   ]
  }
 ],
 "metadata": {
  "kernelspec": {
   "display_name": "Python",
   "language": "python",
   "name": "conda-env-python-py"
  },
  "language_info": {
   "codemirror_mode": {
    "name": "ipython",
    "version": 3
   },
   "file_extension": ".py",
   "mimetype": "text/x-python",
   "name": "python",
   "nbconvert_exporter": "python",
   "pygments_lexer": "ipython3",
   "version": "3.6.7"
  }
 },
 "nbformat": 4,
 "nbformat_minor": 4
}
